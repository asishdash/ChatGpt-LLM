{
  "nbformat": 4,
  "nbformat_minor": 0,
  "metadata": {
    "colab": {
      "provenance": [],
      "authorship_tag": "ABX9TyNnsWOSg1OxdSCh7HjCVCnA",
      "include_colab_link": true
    },
    "kernelspec": {
      "name": "python3",
      "display_name": "Python 3"
    },
    "language_info": {
      "name": "python"
    }
  },
  "cells": [
    {
      "cell_type": "markdown",
      "metadata": {
        "id": "view-in-github",
        "colab_type": "text"
      },
      "source": [
        "<a href=\"https://colab.research.google.com/github/asishdash/ChatGpt-LLM/blob/main/LLM_Code/chatgpt_chatbot.ipynb\" target=\"_parent\"><img src=\"https://colab.research.google.com/assets/colab-badge.svg\" alt=\"Open In Colab\"/></a>"
      ]
    },
    {
      "cell_type": "code",
      "execution_count": 5,
      "metadata": {
        "colab": {
          "base_uri": "https://localhost:8080/"
        },
        "id": "-vFjG8XJyvCx",
        "outputId": "5126715b-f2f4-40f1-dc8d-3bb515cda08f"
      },
      "outputs": [
        {
          "output_type": "stream",
          "name": "stdout",
          "text": [
            "Collecting openai\n",
            "  Downloading openai-0.27.8-py3-none-any.whl (73 kB)\n",
            "\u001b[?25l     \u001b[90m━━━━━━━━━━━━━━━━━━━━━━━━━━━━━━━━━━━━━━━━\u001b[0m \u001b[32m0.0/73.6 kB\u001b[0m \u001b[31m?\u001b[0m eta \u001b[36m-:--:--\u001b[0m\r\u001b[2K     \u001b[91m━━━━━━━━━━━━━━━━━━━━━━━━━━━━━━━━━━━━━━\u001b[0m\u001b[91m╸\u001b[0m\u001b[90m━\u001b[0m \u001b[32m71.7/73.6 kB\u001b[0m \u001b[31m2.1 MB/s\u001b[0m eta \u001b[36m0:00:01\u001b[0m\r\u001b[2K     \u001b[90m━━━━━━━━━━━━━━━━━━━━━━━━━━━━━━━━━━━━━━━━\u001b[0m \u001b[32m73.6/73.6 kB\u001b[0m \u001b[31m1.6 MB/s\u001b[0m eta \u001b[36m0:00:00\u001b[0m\n",
            "\u001b[?25hRequirement already satisfied: requests>=2.20 in /usr/local/lib/python3.10/dist-packages (from openai) (2.31.0)\n",
            "Requirement already satisfied: tqdm in /usr/local/lib/python3.10/dist-packages (from openai) (4.65.0)\n",
            "Requirement already satisfied: aiohttp in /usr/local/lib/python3.10/dist-packages (from openai) (3.8.5)\n",
            "Requirement already satisfied: charset-normalizer<4,>=2 in /usr/local/lib/python3.10/dist-packages (from requests>=2.20->openai) (3.2.0)\n",
            "Requirement already satisfied: idna<4,>=2.5 in /usr/local/lib/python3.10/dist-packages (from requests>=2.20->openai) (3.4)\n",
            "Requirement already satisfied: urllib3<3,>=1.21.1 in /usr/local/lib/python3.10/dist-packages (from requests>=2.20->openai) (1.26.16)\n",
            "Requirement already satisfied: certifi>=2017.4.17 in /usr/local/lib/python3.10/dist-packages (from requests>=2.20->openai) (2023.7.22)\n",
            "Requirement already satisfied: attrs>=17.3.0 in /usr/local/lib/python3.10/dist-packages (from aiohttp->openai) (23.1.0)\n",
            "Requirement already satisfied: multidict<7.0,>=4.5 in /usr/local/lib/python3.10/dist-packages (from aiohttp->openai) (6.0.4)\n",
            "Requirement already satisfied: async-timeout<5.0,>=4.0.0a3 in /usr/local/lib/python3.10/dist-packages (from aiohttp->openai) (4.0.2)\n",
            "Requirement already satisfied: yarl<2.0,>=1.0 in /usr/local/lib/python3.10/dist-packages (from aiohttp->openai) (1.9.2)\n",
            "Requirement already satisfied: frozenlist>=1.1.1 in /usr/local/lib/python3.10/dist-packages (from aiohttp->openai) (1.4.0)\n",
            "Requirement already satisfied: aiosignal>=1.1.2 in /usr/local/lib/python3.10/dist-packages (from aiohttp->openai) (1.3.1)\n",
            "Installing collected packages: openai\n",
            "Successfully installed openai-0.27.8\n"
          ]
        }
      ],
      "source": [
        "!pip install openai"
      ]
    },
    {
      "cell_type": "code",
      "source": [
        "import openai"
      ],
      "metadata": {
        "id": "Exds4q4xy-Tc"
      },
      "execution_count": 6,
      "outputs": []
    },
    {
      "cell_type": "code",
      "source": [
        "import os"
      ],
      "metadata": {
        "id": "YlhecArrnB_J"
      },
      "execution_count": 1,
      "outputs": []
    },
    {
      "cell_type": "code",
      "source": [
        "openai.api_key =os.getenv('Open_AI_Seckrect_key')"
      ],
      "metadata": {
        "id": "e7TRJCNRzBOr"
      },
      "execution_count": 7,
      "outputs": []
    },
    {
      "cell_type": "code",
      "source": [
        "response =openai.ChatCompletion.create(\n",
        "    model= \"gpt-3.5-turbo\",\n",
        "    messages =[\n",
        "        #this system is optional\n",
        "        {\"role\":\"system\",\"content\":\"You are an AI architect , created an AI application on Machine Data and Machine logs \"},\n",
        "        #Ask your question\n",
        "        {\"role\":\"user\",\"content\":\"create a quiz OF 20 QUESTIONS on the application and related AI with 4 options with answer\"}\n",
        "    ]\n",
        ")"
      ],
      "metadata": {
        "id": "kqwMrHCxzFKh"
      },
      "execution_count": null,
      "outputs": []
    },
    {
      "cell_type": "code",
      "source": [
        "result=''\n",
        "for choice in response.choices:\n",
        "  result += choice.message.content"
      ],
      "metadata": {
        "id": "J678Vil_0Rsb"
      },
      "execution_count": null,
      "outputs": []
    },
    {
      "cell_type": "code",
      "source": [
        "print(result)"
      ],
      "metadata": {
        "colab": {
          "base_uri": "https://localhost:8080/"
        },
        "id": "AViMGAdv0ili",
        "outputId": "694b8143-d09d-4e88-f1c1-ed458ebc50fc"
      },
      "execution_count": null,
      "outputs": [
        {
          "output_type": "stream",
          "name": "stdout",
          "text": [
            "Sure! Here is a quiz with 20 questions related to AI and machine data. Each question will have 4 options, and the correct answer will be mentioned in brackets at the end of each question.\n",
            "\n",
            "1. What is the primary purpose of machine data? \n",
            "a) To monitor the health of machines\n",
            "b) To analyze consumer behavior\n",
            "c) To facilitate communication between machines\n",
            "d) All of the above\n",
            "(Correct Answer: a) To monitor the health of machines)\n",
            "\n",
            "2. What is AI? \n",
            "a) Artificial Instruction \n",
            "b) Advanced Intelligence \n",
            "c) Artificial Intelligence \n",
            "d) Automated Integration \n",
            "(Correct Answer: c) Artificial Intelligence)\n",
            "\n",
            "3. Which of the following is an example of machine data? \n",
            "a) Customer reviews \n",
            "b) Website clicks \n",
            "c) Sales revenue \n",
            "d) Social media posts \n",
            "(Correct Answer: b) Website clicks)\n",
            "\n",
            "4. Which type of AI model is trained using a labeled dataset with known inputs and outputs? \n",
            "a) Unsupervised learning \n",
            "b) Reinforcement learning \n",
            "c) Supervised learning \n",
            "d) Deep learning \n",
            "(Correct Answer: c) Supervised learning)\n",
            "\n",
            "5. What is the purpose of using machine logs? \n",
            "a) To track user behavior on a website \n",
            "b) To monitor system errors and performance \n",
            "c) To optimize marketing campaigns \n",
            "d) All of the above \n",
            "(Correct Answer: b) To monitor system errors and performance)\n",
            "\n",
            "6. Which of the following is NOT an application of AI in healthcare? \n",
            "a) Diagnosing diseases \n",
            "b) Predicting patient outcomes \n",
            "c) Analyzing stock market trends \n",
            "d) Assisting in surgical procedures \n",
            "(Correct Answer: c) Analyzing stock market trends)\n",
            "\n",
            "7. Which of the following algorithms is commonly used for anomaly detection in machine data? \n",
            "a) K-means clustering \n",
            "b) Random Forest \n",
            "c) Decision Trees \n",
            "d) Isolation Forest \n",
            "(Correct Answer: d) Isolation Forest)\n",
            "\n",
            "8. Which type of data visualization is commonly used for time series analysis of machine data? \n",
            "a) Bar chart \n",
            "b) Scatter plot \n",
            "c) Line graph \n",
            "d) Pie chart \n",
            "(Correct Answer: c) Line graph)\n",
            "\n",
            "9. Which AI technique is used for natural language processing? \n",
            "a) Recurrent Neural Networks (RNNs) \n",
            "b) Convolutional Neural Networks (CNNs) \n",
            "c) Support Vector Machines (SVMs) \n",
            "d) Decision Trees \n",
            "(Correct Answer: a) Recurrent Neural Networks (RNNs))\n",
            "\n",
            "10. Which of the following is a data preprocessing step commonly used in machine learning? \n",
            "a) Feature engineering \n",
            "b) Hyperparameter tuning \n",
            "c) Model evaluation \n",
            "d) Gradient descent \n",
            "(Correct Answer: a) Feature engineering)\n",
            "\n",
            "11. What is the process of converting raw machine data into meaningful insights called? \n",
            "a) Data collection \n",
            "b) Data visualization \n",
            "c) Data analysis \n",
            "d) Data preprocessing \n",
            "(Correct Answer: c) Data analysis)\n",
            "\n",
            "12. Which type of machine learning algorithm is best suited for classification tasks? \n",
            "a) Linear Regression \n",
            "b) Logistic Regression \n",
            "c) K-means clustering \n",
            "d) Gradient Boosting \n",
            "(Correct Answer: b) Logistic Regression)\n",
            "\n",
            "13. Which programming language is commonly used for implementing AI algorithms? \n",
            "a) Python \n",
            "b) Java \n",
            "c) C++ \n",
            "d) Ruby \n",
            "(Correct Answer: a) Python)\n",
            "\n",
            "14. Which of the following is an AI application that can understand and generate human-like text? \n",
            "a) Virtual reality \n",
            "b) Augmented reality \n",
            "c) Natural Language Processing \n",
            "d) Machine Vision \n",
            "(Correct Answer: c) Natural Language Processing)\n",
            "\n",
            "15. What is the measure of how well a machine learning model performs on unseen data? \n",
            "a) Accuracy \n",
            "b) Precision \n",
            "c) Recall \n",
            "d) Generalization \n",
            "(Correct Answer: d) Generalization)\n",
            "\n",
            "16. Which of the following is a machine learning technique that involves combining multiple models for improved performance? \n",
            "a) Decision Trees \n",
            "b) Ensemble Learning \n",
            "c) Naive Bayes \n",
            "d) Principal Component Analysis \n",
            "(Correct Answer: b) Ensemble Learning)\n",
            "\n",
            "17. Which of the following is NOT a common challenge in implementing AI in organizations? \n",
            "a) Lack of data \n",
            "b) Data quality issues \n",
            "c) Skilled workforce \n",
            "d) Ethical considerations \n",
            "(Correct Answer: c) Skilled workforce)\n",
            "\n",
            "18. What is the process of fine-tuning an AI model using feedback from the environment called? \n",
            "a) Supervised learning \n",
            "b) Reinforcement learning \n",
            "c) Unsupervised learning \n",
            "d) Deep learning \n",
            "(Correct Answer: b) Reinforcement learning)\n",
            "\n",
            "19. Which AI technique is used for image recognition and computer vision tasks? \n",
            "a) Support Vector Machines (SVMs) \n",
            "b) Convolutional Neural Networks (CNNs) \n",
            "c) Recurrent Neural Networks (RNNs) \n",
            "d) Decision Trees \n",
            "(Correct Answer: b) Convolutional Neural Networks (CNNs))\n",
            "\n",
            "20. Which of the following is a well-known open-source library for implementing machine learning algorithms in Python? \n",
            "a) TensorFlow \n",
            "b) PyTorch \n",
            "c) scikit-learn \n",
            "d) All of the above\n",
            "(Correct Answer: d) All of the above)\n",
            "\n",
            "I hope you find this quiz challenging and informative!\n"
          ]
        }
      ]
    },
    {
      "cell_type": "code",
      "source": [],
      "metadata": {
        "id": "G2QsVDYm0rz9"
      },
      "execution_count": null,
      "outputs": []
    }
  ]
}