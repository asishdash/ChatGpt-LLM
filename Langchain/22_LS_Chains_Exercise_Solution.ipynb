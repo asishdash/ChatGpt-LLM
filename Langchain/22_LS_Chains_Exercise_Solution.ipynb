{
  "cells": [
    {
      "cell_type": "markdown",
      "metadata": {
        "id": "view-in-github",
        "colab_type": "text"
      },
      "source": [
        "<a href=\"https://colab.research.google.com/github/asishdash/ChatGpt-LLM/blob/main/Langchain/22_LS_Chains_Exercise_Solution.ipynb\" target=\"_parent\"><img src=\"https://colab.research.google.com/assets/colab-badge.svg\" alt=\"Open In Colab\"/></a>"
      ]
    },
    {
      "cell_type": "markdown",
      "id": "728f1747-b8fc-4d31-96c2-047fc83c079d",
      "metadata": {
        "id": "728f1747-b8fc-4d31-96c2-047fc83c079d"
      },
      "source": [
        "#  Chains Exercise - Solution\n",
        "\n",
        "## TASK:\n",
        "Fill out the function below that takes in a string input Customer Support email that could be written in any language. The function will then detect the language, translate the email, and provide a summary.\n",
        "\n",
        "Fill out the function below using a Sequential Chain, the function should do the following:\n",
        "\n",
        "1. Detect the language the email is written in\n",
        "2. Translate the email from detected language to English\n",
        "3. Return a summary of the translated email\n",
        "\n",
        "Note: The Function should return a dictionary that contains all three of these outputs!"
      ]
    },
    {
      "cell_type": "markdown",
      "id": "1e10f522-2a0f-44c0-9e37-934639609bdf",
      "metadata": {
        "id": "1e10f522-2a0f-44c0-9e37-934639609bdf"
      },
      "source": [
        "## Reading in our example Email Text File:"
      ]
    },
    {
      "cell_type": "code",
      "source": [
        "! pip install openai\n",
        "! pip install langchain"
      ],
      "metadata": {
        "colab": {
          "base_uri": "https://localhost:8080/"
        },
        "id": "z-sHsy2BKShR",
        "outputId": "bcccfdbc-48e4-480b-9eeb-bf27585fe163"
      },
      "id": "z-sHsy2BKShR",
      "execution_count": 8,
      "outputs": [
        {
          "output_type": "stream",
          "name": "stdout",
          "text": [
            "Collecting openai\n",
            "  Downloading openai-0.27.8-py3-none-any.whl (73 kB)\n",
            "\u001b[2K     \u001b[90m━━━━━━━━━━━━━━━━━━━━━━━━━━━━━━━━━━━━━━━━\u001b[0m \u001b[32m73.6/73.6 kB\u001b[0m \u001b[31m1.8 MB/s\u001b[0m eta \u001b[36m0:00:00\u001b[0m\n",
            "\u001b[?25hRequirement already satisfied: requests>=2.20 in /usr/local/lib/python3.10/dist-packages (from openai) (2.31.0)\n",
            "Requirement already satisfied: tqdm in /usr/local/lib/python3.10/dist-packages (from openai) (4.66.0)\n",
            "Requirement already satisfied: aiohttp in /usr/local/lib/python3.10/dist-packages (from openai) (3.8.5)\n",
            "Requirement already satisfied: charset-normalizer<4,>=2 in /usr/local/lib/python3.10/dist-packages (from requests>=2.20->openai) (3.2.0)\n",
            "Requirement already satisfied: idna<4,>=2.5 in /usr/local/lib/python3.10/dist-packages (from requests>=2.20->openai) (3.4)\n",
            "Requirement already satisfied: urllib3<3,>=1.21.1 in /usr/local/lib/python3.10/dist-packages (from requests>=2.20->openai) (2.0.4)\n",
            "Requirement already satisfied: certifi>=2017.4.17 in /usr/local/lib/python3.10/dist-packages (from requests>=2.20->openai) (2023.7.22)\n",
            "Requirement already satisfied: attrs>=17.3.0 in /usr/local/lib/python3.10/dist-packages (from aiohttp->openai) (23.1.0)\n",
            "Requirement already satisfied: multidict<7.0,>=4.5 in /usr/local/lib/python3.10/dist-packages (from aiohttp->openai) (6.0.4)\n",
            "Requirement already satisfied: async-timeout<5.0,>=4.0.0a3 in /usr/local/lib/python3.10/dist-packages (from aiohttp->openai) (4.0.2)\n",
            "Requirement already satisfied: yarl<2.0,>=1.0 in /usr/local/lib/python3.10/dist-packages (from aiohttp->openai) (1.9.2)\n",
            "Requirement already satisfied: frozenlist>=1.1.1 in /usr/local/lib/python3.10/dist-packages (from aiohttp->openai) (1.4.0)\n",
            "Requirement already satisfied: aiosignal>=1.1.2 in /usr/local/lib/python3.10/dist-packages (from aiohttp->openai) (1.3.1)\n",
            "Installing collected packages: openai\n",
            "Successfully installed openai-0.27.8\n",
            "Collecting langchain\n",
            "  Downloading langchain-0.0.264-py3-none-any.whl (1.5 MB)\n",
            "\u001b[2K     \u001b[90m━━━━━━━━━━━━━━━━━━━━━━━━━━━━━━━━━━━━━━━━\u001b[0m \u001b[32m1.5/1.5 MB\u001b[0m \u001b[31m7.6 MB/s\u001b[0m eta \u001b[36m0:00:00\u001b[0m\n",
            "\u001b[?25hRequirement already satisfied: PyYAML>=5.3 in /usr/local/lib/python3.10/dist-packages (from langchain) (6.0.1)\n",
            "Requirement already satisfied: SQLAlchemy<3,>=1.4 in /usr/local/lib/python3.10/dist-packages (from langchain) (2.0.19)\n",
            "Requirement already satisfied: aiohttp<4.0.0,>=3.8.3 in /usr/local/lib/python3.10/dist-packages (from langchain) (3.8.5)\n",
            "Requirement already satisfied: async-timeout<5.0.0,>=4.0.0 in /usr/local/lib/python3.10/dist-packages (from langchain) (4.0.2)\n",
            "Collecting dataclasses-json<0.6.0,>=0.5.7 (from langchain)\n",
            "  Downloading dataclasses_json-0.5.14-py3-none-any.whl (26 kB)\n",
            "Collecting langsmith<0.1.0,>=0.0.11 (from langchain)\n",
            "  Downloading langsmith-0.0.22-py3-none-any.whl (32 kB)\n",
            "Requirement already satisfied: numexpr<3.0.0,>=2.8.4 in /usr/local/lib/python3.10/dist-packages (from langchain) (2.8.5)\n",
            "Requirement already satisfied: numpy<2,>=1 in /usr/local/lib/python3.10/dist-packages (from langchain) (1.23.5)\n",
            "Collecting openapi-schema-pydantic<2.0,>=1.2 (from langchain)\n",
            "  Downloading openapi_schema_pydantic-1.2.4-py3-none-any.whl (90 kB)\n",
            "\u001b[2K     \u001b[90m━━━━━━━━━━━━━━━━━━━━━━━━━━━━━━━━━━━━━━━━\u001b[0m \u001b[32m90.0/90.0 kB\u001b[0m \u001b[31m11.8 MB/s\u001b[0m eta \u001b[36m0:00:00\u001b[0m\n",
            "\u001b[?25hCollecting pydantic<2,>=1 (from langchain)\n",
            "  Downloading pydantic-1.10.12-cp310-cp310-manylinux_2_17_x86_64.manylinux2014_x86_64.whl (3.1 MB)\n",
            "\u001b[2K     \u001b[90m━━━━━━━━━━━━━━━━━━━━━━━━━━━━━━━━━━━━━━━━\u001b[0m \u001b[32m3.1/3.1 MB\u001b[0m \u001b[31m20.6 MB/s\u001b[0m eta \u001b[36m0:00:00\u001b[0m\n",
            "\u001b[?25hRequirement already satisfied: requests<3,>=2 in /usr/local/lib/python3.10/dist-packages (from langchain) (2.31.0)\n",
            "Requirement already satisfied: tenacity<9.0.0,>=8.1.0 in /usr/local/lib/python3.10/dist-packages (from langchain) (8.2.2)\n",
            "Requirement already satisfied: attrs>=17.3.0 in /usr/local/lib/python3.10/dist-packages (from aiohttp<4.0.0,>=3.8.3->langchain) (23.1.0)\n",
            "Requirement already satisfied: charset-normalizer<4.0,>=2.0 in /usr/local/lib/python3.10/dist-packages (from aiohttp<4.0.0,>=3.8.3->langchain) (3.2.0)\n",
            "Requirement already satisfied: multidict<7.0,>=4.5 in /usr/local/lib/python3.10/dist-packages (from aiohttp<4.0.0,>=3.8.3->langchain) (6.0.4)\n",
            "Requirement already satisfied: yarl<2.0,>=1.0 in /usr/local/lib/python3.10/dist-packages (from aiohttp<4.0.0,>=3.8.3->langchain) (1.9.2)\n",
            "Requirement already satisfied: frozenlist>=1.1.1 in /usr/local/lib/python3.10/dist-packages (from aiohttp<4.0.0,>=3.8.3->langchain) (1.4.0)\n",
            "Requirement already satisfied: aiosignal>=1.1.2 in /usr/local/lib/python3.10/dist-packages (from aiohttp<4.0.0,>=3.8.3->langchain) (1.3.1)\n",
            "Collecting marshmallow<4.0.0,>=3.18.0 (from dataclasses-json<0.6.0,>=0.5.7->langchain)\n",
            "  Downloading marshmallow-3.20.1-py3-none-any.whl (49 kB)\n",
            "\u001b[2K     \u001b[90m━━━━━━━━━━━━━━━━━━━━━━━━━━━━━━━━━━━━━━━━\u001b[0m \u001b[32m49.4/49.4 kB\u001b[0m \u001b[31m5.1 MB/s\u001b[0m eta \u001b[36m0:00:00\u001b[0m\n",
            "\u001b[?25hCollecting typing-inspect<1,>=0.4.0 (from dataclasses-json<0.6.0,>=0.5.7->langchain)\n",
            "  Downloading typing_inspect-0.9.0-py3-none-any.whl (8.8 kB)\n",
            "Requirement already satisfied: typing-extensions>=4.2.0 in /usr/local/lib/python3.10/dist-packages (from pydantic<2,>=1->langchain) (4.7.1)\n",
            "Requirement already satisfied: idna<4,>=2.5 in /usr/local/lib/python3.10/dist-packages (from requests<3,>=2->langchain) (3.4)\n",
            "Requirement already satisfied: urllib3<3,>=1.21.1 in /usr/local/lib/python3.10/dist-packages (from requests<3,>=2->langchain) (2.0.4)\n",
            "Requirement already satisfied: certifi>=2017.4.17 in /usr/local/lib/python3.10/dist-packages (from requests<3,>=2->langchain) (2023.7.22)\n",
            "Requirement already satisfied: greenlet!=0.4.17 in /usr/local/lib/python3.10/dist-packages (from SQLAlchemy<3,>=1.4->langchain) (2.0.2)\n",
            "Requirement already satisfied: packaging>=17.0 in /usr/local/lib/python3.10/dist-packages (from marshmallow<4.0.0,>=3.18.0->dataclasses-json<0.6.0,>=0.5.7->langchain) (23.1)\n",
            "Collecting mypy-extensions>=0.3.0 (from typing-inspect<1,>=0.4.0->dataclasses-json<0.6.0,>=0.5.7->langchain)\n",
            "  Downloading mypy_extensions-1.0.0-py3-none-any.whl (4.7 kB)\n",
            "Installing collected packages: pydantic, mypy-extensions, marshmallow, typing-inspect, openapi-schema-pydantic, langsmith, dataclasses-json, langchain\n",
            "  Attempting uninstall: pydantic\n",
            "    Found existing installation: pydantic 2.1.1\n",
            "    Uninstalling pydantic-2.1.1:\n",
            "      Successfully uninstalled pydantic-2.1.1\n",
            "Successfully installed dataclasses-json-0.5.14 langchain-0.0.264 langsmith-0.0.22 marshmallow-3.20.1 mypy-extensions-1.0.0 openapi-schema-pydantic-1.2.4 pydantic-1.10.12 typing-inspect-0.9.0\n"
          ]
        }
      ]
    },
    {
      "cell_type": "code",
      "execution_count": 7,
      "id": "f5cec8e4-c2cf-4adc-b589-322cd45d8dfa",
      "metadata": {
        "id": "f5cec8e4-c2cf-4adc-b589-322cd45d8dfa"
      },
      "outputs": [],
      "source": [
        "spanish_email = open('./spanish_customer_email.txt').read()"
      ]
    },
    {
      "cell_type": "code",
      "execution_count": 9,
      "id": "d93c70a5-951e-4c40-a08d-6ad7a978e35b",
      "metadata": {
        "colab": {
          "base_uri": "https://localhost:8080/"
        },
        "id": "d93c70a5-951e-4c40-a08d-6ad7a978e35b",
        "outputId": "8c387fa3-985d-4d79-a287-6da18856ca09"
      },
      "outputs": [
        {
          "output_type": "stream",
          "name": "stdout",
          "text": [
            "Asunto: Reporte de Problemas Tcnicos - Funcionalidad del Panel SAAS\n",
            "\n",
            "Estimado Equipo de Soporte al Cliente,\n",
            "\n",
            "Espero que este mensaje les encuentre bien. Les escribo para informarles sobre un problema t�cnico que he encontrado mientras utilizo su producto de panel SAAS. Como cliente leal, aprecio el valor que su producto aporta a mi negocio, pero actualmente me enfrento a un desaf�o que requiere su experiencia.\n",
            "\n",
            "Me gustara describir detalladamente el problema que estoy experimentando:\n",
            "\n",
            "\n",
            "\n",
            "Mara Rodrguez\n",
            "ID de Cliente: 123456789\n",
            "Informacin de la Cuenta: Empresa Ejemplo S.A.\n"
          ]
        }
      ],
      "source": [
        "print(spanish_email)"
      ]
    },
    {
      "cell_type": "markdown",
      "id": "d4270b75-ce4e-4a76-b069-6cb94eb74318",
      "metadata": {
        "id": "d4270b75-ce4e-4a76-b069-6cb94eb74318"
      },
      "source": [
        "## Function to fill out:"
      ]
    },
    {
      "cell_type": "code",
      "execution_count": 10,
      "id": "07f64d15-8671-4c75-8a80-41ca864087ee",
      "metadata": {
        "id": "07f64d15-8671-4c75-8a80-41ca864087ee"
      },
      "outputs": [],
      "source": [
        "from langchain.chat_models import ChatOpenAI\n",
        "from langchain.prompts import ChatPromptTemplate\n",
        "from langchain.chains import LLMChain,SequentialChain"
      ]
    },
    {
      "cell_type": "code",
      "execution_count": 11,
      "id": "67513a28-5643-4387-9462-02adda8ca3bc",
      "metadata": {
        "id": "67513a28-5643-4387-9462-02adda8ca3bc"
      },
      "outputs": [],
      "source": [
        "def translate_and_summarize(email):\n",
        "    \"\"\"\n",
        "    Translates an email written in a detected language to English and generates a summary.\n",
        "\n",
        "    Args:\n",
        "        email (str): The email to be processed and translated.\n",
        "\n",
        "    Returns:\n",
        "        dict: A dictionary containing the following keys:\n",
        "            - 'language': The language the email was written in.\n",
        "            - 'translated_email': The translated version of the email in English.\n",
        "            - 'summary': A short summary of the translated email.\n",
        "\n",
        "    Raises:\n",
        "        Exception: If any error occurs during the LLM chain execution.\n",
        "\n",
        "    Example:\n",
        "        email = \"Hola, ¿cómo estás? Espero que todo vaya bien.\"\n",
        "        result = translate_and_summarize(email)\n",
        "        print(result)\n",
        "        # Output:\n",
        "        # {\n",
        "        #     'language': 'Spanish',\n",
        "        #     'translated_email': 'Hello, how are you? I hope everything is going well.',\n",
        "        #     'summary': 'A friendly greeting and a wish for well-being.'\n",
        "        # }\n",
        "    \"\"\"\n",
        "    # Create Model\n",
        "    llm = ChatOpenAI()\n",
        "\n",
        "    # CREATE A CHAIN THAT DOES THE FOLLOWING:\n",
        "\n",
        "    # Detect Language\n",
        "    template1 = \"Return the language this email is written in:\\n{email}.\\nONLY return the language it was written in.\"\n",
        "    prompt1 = ChatPromptTemplate.from_template(template1)\n",
        "    chain_1 = LLMChain(llm=llm,\n",
        "                     prompt=prompt1,\n",
        "                     output_key=\"language\")\n",
        "\n",
        "    # Translate from detected language to English\n",
        "    template2 = \"Translate this email from {language} to English. Here is the email:\\n\"+email\n",
        "    prompt2 = ChatPromptTemplate.from_template(template2)\n",
        "    chain_2 = LLMChain(llm=llm,\n",
        "                     prompt=prompt2,\n",
        "                     output_key=\"translated_email\")\n",
        "\n",
        "    # Return English Summary AND the Translated Email\n",
        "    template3 = \"Create a short summary of this email:\\n{translated_email}\"\n",
        "    prompt3 = ChatPromptTemplate.from_template(template3)\n",
        "    chain_3 = LLMChain(llm=llm,\n",
        "                     prompt=prompt3,\n",
        "                     output_key=\"summary\")\n",
        "\n",
        "    seq_chain = SequentialChain(chains=[chain_1,chain_2,chain_3],\n",
        "                            input_variables=['email'],\n",
        "                            output_variables=['language','translated_email','summary'],\n",
        "                            verbose=True)\n",
        "    return seq_chain(email)"
      ]
    },
    {
      "cell_type": "code",
      "execution_count": 12,
      "id": "8f7dc228-285f-49d3-a4ef-f870ac44c061",
      "metadata": {
        "colab": {
          "base_uri": "https://localhost:8080/"
        },
        "id": "8f7dc228-285f-49d3-a4ef-f870ac44c061",
        "outputId": "59666d4d-81b0-4764-d50b-57dfb835ad13"
      },
      "outputs": [
        {
          "output_type": "stream",
          "name": "stdout",
          "text": [
            "\n",
            "\n",
            "\u001b[1m> Entering new SequentialChain chain...\u001b[0m\n",
            "\n",
            "\u001b[1m> Finished chain.\u001b[0m\n"
          ]
        }
      ],
      "source": [
        "\n",
        "import os\n",
        "result = translate_and_summarize(spanish_email)"
      ]
    },
    {
      "cell_type": "code",
      "execution_count": 13,
      "id": "90b09c5f-6e32-4718-be7d-51e83d81ce9d",
      "metadata": {
        "colab": {
          "base_uri": "https://localhost:8080/"
        },
        "id": "90b09c5f-6e32-4718-be7d-51e83d81ce9d",
        "outputId": "c5b44067-4faf-4676-b36b-599d73f7459a"
      },
      "outputs": [
        {
          "output_type": "execute_result",
          "data": {
            "text/plain": [
              "dict_keys(['email', 'language', 'translated_email', 'summary'])"
            ]
          },
          "metadata": {},
          "execution_count": 13
        }
      ],
      "source": [
        "result.keys()"
      ]
    },
    {
      "cell_type": "code",
      "execution_count": 14,
      "id": "530a286f-05f7-4740-bc23-2a0506a2741d",
      "metadata": {
        "colab": {
          "base_uri": "https://localhost:8080/",
          "height": 35
        },
        "id": "530a286f-05f7-4740-bc23-2a0506a2741d",
        "outputId": "1f37b3a5-4d9c-47f9-809a-a789f069c2e5"
      },
      "outputs": [
        {
          "output_type": "execute_result",
          "data": {
            "text/plain": [
              "'Spanish'"
            ],
            "application/vnd.google.colaboratory.intrinsic+json": {
              "type": "string"
            }
          },
          "metadata": {},
          "execution_count": 14
        }
      ],
      "source": [
        "result['language']"
      ]
    },
    {
      "cell_type": "code",
      "execution_count": 15,
      "id": "7f9982b0-0628-41a8-9ede-894d3d512717",
      "metadata": {
        "colab": {
          "base_uri": "https://localhost:8080/",
          "height": 160
        },
        "id": "7f9982b0-0628-41a8-9ede-894d3d512717",
        "outputId": "1d7b27f8-14a2-4385-cac4-e9f2743e0fac"
      },
      "outputs": [
        {
          "output_type": "execute_result",
          "data": {
            "text/plain": [
              "'Subject: Technical Issues Report - SAAS Panel Functionality\\n\\nDear Customer Support Team,\\n\\nI hope this message finds you well. I am writing to inform you about a technical issue I have encountered while using your SAAS panel product. As a loyal customer, I appreciate the value your product brings to my business, but I am currently facing a challenge that requires your expertise.\\n\\nI would like to describe in detail the problem I am experiencing:\\n\\nMara Rodrguez\\nCustomer ID: 123456789\\nAccount Information: Example Company S.A.'"
            ],
            "application/vnd.google.colaboratory.intrinsic+json": {
              "type": "string"
            }
          },
          "metadata": {},
          "execution_count": 15
        }
      ],
      "source": [
        "result['translated_email']"
      ]
    },
    {
      "cell_type": "code",
      "execution_count": null,
      "id": "670b9635-a245-40f2-a67d-32c8c707d736",
      "metadata": {
        "id": "670b9635-a245-40f2-a67d-32c8c707d736",
        "outputId": "5064d881-a934-4fbd-f083-9ac9fbebb843"
      },
      "outputs": [
        {
          "data": {
            "text/plain": [
              "'The email is from a customer who is experiencing technical issues with a SAAS panel product. The customer describes three specific problems: graphical issues, export function failure, and slow loading. The customer has already attempted to troubleshoot the issues with no success. They request assistance from the customer support team to resolve the issues and provide specific actions they would appreciate, including fixing the graphical issues, resolving the export function problem, and optimizing performance. The customer expresses understanding for technical issues and hopes for a prompt response and resolution. They provide their client ID and account information for reference.'"
            ]
          },
          "execution_count": 16,
          "metadata": {},
          "output_type": "execute_result"
        }
      ],
      "source": [
        "result['summary']"
      ]
    },
    {
      "cell_type": "code",
      "execution_count": null,
      "id": "3f4db057-0681-45c5-9d4b-74fbb532f0af",
      "metadata": {
        "id": "3f4db057-0681-45c5-9d4b-74fbb532f0af"
      },
      "outputs": [],
      "source": []
    }
  ],
  "metadata": {
    "kernelspec": {
      "display_name": "Python 3 (ipykernel)",
      "language": "python",
      "name": "python3"
    },
    "language_info": {
      "codemirror_mode": {
        "name": "ipython",
        "version": 3
      },
      "file_extension": ".py",
      "mimetype": "text/x-python",
      "name": "python",
      "nbconvert_exporter": "python",
      "pygments_lexer": "ipython3",
      "version": "3.9.12"
    },
    "colab": {
      "provenance": [],
      "include_colab_link": true
    }
  },
  "nbformat": 4,
  "nbformat_minor": 5
}