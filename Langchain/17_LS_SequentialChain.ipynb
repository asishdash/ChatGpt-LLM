{
  "cells": [
    {
      "cell_type": "markdown",
      "metadata": {
        "id": "view-in-github",
        "colab_type": "text"
      },
      "source": [
        "<a href=\"https://colab.research.google.com/github/asishdash/ChatGpt-LLM/blob/main/Langchain/17_LS_SequentialChain.ipynb\" target=\"_parent\"><img src=\"https://colab.research.google.com/assets/colab-badge.svg\" alt=\"Open In Colab\"/></a>"
      ]
    },
    {
      "cell_type": "markdown",
      "id": "728f1747-b8fc-4d31-96c2-047fc83c079d",
      "metadata": {
        "id": "728f1747-b8fc-4d31-96c2-047fc83c079d"
      },
      "source": [
        "#  Sequential Chains"
      ]
    },
    {
      "cell_type": "code",
      "source": [
        "!pip install openai\n",
        "!pip install langchain"
      ],
      "metadata": {
        "colab": {
          "base_uri": "https://localhost:8080/"
        },
        "id": "2snW4HjD2BBU",
        "outputId": "5e79442c-1872-4b08-b2f4-b4f657923e62"
      },
      "id": "2snW4HjD2BBU",
      "execution_count": 1,
      "outputs": [
        {
          "output_type": "stream",
          "name": "stdout",
          "text": [
            "Collecting openai\n",
            "  Downloading openai-0.27.8-py3-none-any.whl (73 kB)\n",
            "\u001b[2K     \u001b[90m━━━━━━━━━━━━━━━━━━━━━━━━━━━━━━━━━━━━━━━━\u001b[0m \u001b[32m73.6/73.6 kB\u001b[0m \u001b[31m2.1 MB/s\u001b[0m eta \u001b[36m0:00:00\u001b[0m\n",
            "\u001b[?25hRequirement already satisfied: requests>=2.20 in /usr/local/lib/python3.10/dist-packages (from openai) (2.31.0)\n",
            "Requirement already satisfied: tqdm in /usr/local/lib/python3.10/dist-packages (from openai) (4.66.0)\n",
            "Requirement already satisfied: aiohttp in /usr/local/lib/python3.10/dist-packages (from openai) (3.8.5)\n",
            "Requirement already satisfied: charset-normalizer<4,>=2 in /usr/local/lib/python3.10/dist-packages (from requests>=2.20->openai) (3.2.0)\n",
            "Requirement already satisfied: idna<4,>=2.5 in /usr/local/lib/python3.10/dist-packages (from requests>=2.20->openai) (3.4)\n",
            "Requirement already satisfied: urllib3<3,>=1.21.1 in /usr/local/lib/python3.10/dist-packages (from requests>=2.20->openai) (2.0.4)\n",
            "Requirement already satisfied: certifi>=2017.4.17 in /usr/local/lib/python3.10/dist-packages (from requests>=2.20->openai) (2023.7.22)\n",
            "Requirement already satisfied: attrs>=17.3.0 in /usr/local/lib/python3.10/dist-packages (from aiohttp->openai) (23.1.0)\n",
            "Requirement already satisfied: multidict<7.0,>=4.5 in /usr/local/lib/python3.10/dist-packages (from aiohttp->openai) (6.0.4)\n",
            "Requirement already satisfied: async-timeout<5.0,>=4.0.0a3 in /usr/local/lib/python3.10/dist-packages (from aiohttp->openai) (4.0.2)\n",
            "Requirement already satisfied: yarl<2.0,>=1.0 in /usr/local/lib/python3.10/dist-packages (from aiohttp->openai) (1.9.2)\n",
            "Requirement already satisfied: frozenlist>=1.1.1 in /usr/local/lib/python3.10/dist-packages (from aiohttp->openai) (1.4.0)\n",
            "Requirement already satisfied: aiosignal>=1.1.2 in /usr/local/lib/python3.10/dist-packages (from aiohttp->openai) (1.3.1)\n",
            "Installing collected packages: openai\n",
            "Successfully installed openai-0.27.8\n",
            "Collecting langchain\n",
            "  Downloading langchain-0.0.264-py3-none-any.whl (1.5 MB)\n",
            "\u001b[2K     \u001b[90m━━━━━━━━━━━━━━━━━━━━━━━━━━━━━━━━━━━━━━━━\u001b[0m \u001b[32m1.5/1.5 MB\u001b[0m \u001b[31m5.8 MB/s\u001b[0m eta \u001b[36m0:00:00\u001b[0m\n",
            "\u001b[?25hRequirement already satisfied: PyYAML>=5.3 in /usr/local/lib/python3.10/dist-packages (from langchain) (6.0.1)\n",
            "Requirement already satisfied: SQLAlchemy<3,>=1.4 in /usr/local/lib/python3.10/dist-packages (from langchain) (2.0.19)\n",
            "Requirement already satisfied: aiohttp<4.0.0,>=3.8.3 in /usr/local/lib/python3.10/dist-packages (from langchain) (3.8.5)\n",
            "Requirement already satisfied: async-timeout<5.0.0,>=4.0.0 in /usr/local/lib/python3.10/dist-packages (from langchain) (4.0.2)\n",
            "Collecting dataclasses-json<0.6.0,>=0.5.7 (from langchain)\n",
            "  Downloading dataclasses_json-0.5.14-py3-none-any.whl (26 kB)\n",
            "Collecting langsmith<0.1.0,>=0.0.11 (from langchain)\n",
            "  Downloading langsmith-0.0.22-py3-none-any.whl (32 kB)\n",
            "Requirement already satisfied: numexpr<3.0.0,>=2.8.4 in /usr/local/lib/python3.10/dist-packages (from langchain) (2.8.5)\n",
            "Requirement already satisfied: numpy<2,>=1 in /usr/local/lib/python3.10/dist-packages (from langchain) (1.23.5)\n",
            "Collecting openapi-schema-pydantic<2.0,>=1.2 (from langchain)\n",
            "  Downloading openapi_schema_pydantic-1.2.4-py3-none-any.whl (90 kB)\n",
            "\u001b[2K     \u001b[90m━━━━━━━━━━━━━━━━━━━━━━━━━━━━━━━━━━━━━━━━\u001b[0m \u001b[32m90.0/90.0 kB\u001b[0m \u001b[31m7.5 MB/s\u001b[0m eta \u001b[36m0:00:00\u001b[0m\n",
            "\u001b[?25hCollecting pydantic<2,>=1 (from langchain)\n",
            "  Downloading pydantic-1.10.12-cp310-cp310-manylinux_2_17_x86_64.manylinux2014_x86_64.whl (3.1 MB)\n",
            "\u001b[2K     \u001b[90m━━━━━━━━━━━━━━━━━━━━━━━━━━━━━━━━━━━━━━━━\u001b[0m \u001b[32m3.1/3.1 MB\u001b[0m \u001b[31m20.9 MB/s\u001b[0m eta \u001b[36m0:00:00\u001b[0m\n",
            "\u001b[?25hRequirement already satisfied: requests<3,>=2 in /usr/local/lib/python3.10/dist-packages (from langchain) (2.31.0)\n",
            "Requirement already satisfied: tenacity<9.0.0,>=8.1.0 in /usr/local/lib/python3.10/dist-packages (from langchain) (8.2.2)\n",
            "Requirement already satisfied: attrs>=17.3.0 in /usr/local/lib/python3.10/dist-packages (from aiohttp<4.0.0,>=3.8.3->langchain) (23.1.0)\n",
            "Requirement already satisfied: charset-normalizer<4.0,>=2.0 in /usr/local/lib/python3.10/dist-packages (from aiohttp<4.0.0,>=3.8.3->langchain) (3.2.0)\n",
            "Requirement already satisfied: multidict<7.0,>=4.5 in /usr/local/lib/python3.10/dist-packages (from aiohttp<4.0.0,>=3.8.3->langchain) (6.0.4)\n",
            "Requirement already satisfied: yarl<2.0,>=1.0 in /usr/local/lib/python3.10/dist-packages (from aiohttp<4.0.0,>=3.8.3->langchain) (1.9.2)\n",
            "Requirement already satisfied: frozenlist>=1.1.1 in /usr/local/lib/python3.10/dist-packages (from aiohttp<4.0.0,>=3.8.3->langchain) (1.4.0)\n",
            "Requirement already satisfied: aiosignal>=1.1.2 in /usr/local/lib/python3.10/dist-packages (from aiohttp<4.0.0,>=3.8.3->langchain) (1.3.1)\n",
            "Collecting marshmallow<4.0.0,>=3.18.0 (from dataclasses-json<0.6.0,>=0.5.7->langchain)\n",
            "  Downloading marshmallow-3.20.1-py3-none-any.whl (49 kB)\n",
            "\u001b[2K     \u001b[90m━━━━━━━━━━━━━━━━━━━━━━━━━━━━━━━━━━━━━━━━\u001b[0m \u001b[32m49.4/49.4 kB\u001b[0m \u001b[31m4.6 MB/s\u001b[0m eta \u001b[36m0:00:00\u001b[0m\n",
            "\u001b[?25hCollecting typing-inspect<1,>=0.4.0 (from dataclasses-json<0.6.0,>=0.5.7->langchain)\n",
            "  Downloading typing_inspect-0.9.0-py3-none-any.whl (8.8 kB)\n",
            "Requirement already satisfied: typing-extensions>=4.2.0 in /usr/local/lib/python3.10/dist-packages (from pydantic<2,>=1->langchain) (4.7.1)\n",
            "Requirement already satisfied: idna<4,>=2.5 in /usr/local/lib/python3.10/dist-packages (from requests<3,>=2->langchain) (3.4)\n",
            "Requirement already satisfied: urllib3<3,>=1.21.1 in /usr/local/lib/python3.10/dist-packages (from requests<3,>=2->langchain) (2.0.4)\n",
            "Requirement already satisfied: certifi>=2017.4.17 in /usr/local/lib/python3.10/dist-packages (from requests<3,>=2->langchain) (2023.7.22)\n",
            "Requirement already satisfied: greenlet!=0.4.17 in /usr/local/lib/python3.10/dist-packages (from SQLAlchemy<3,>=1.4->langchain) (2.0.2)\n",
            "Requirement already satisfied: packaging>=17.0 in /usr/local/lib/python3.10/dist-packages (from marshmallow<4.0.0,>=3.18.0->dataclasses-json<0.6.0,>=0.5.7->langchain) (23.1)\n",
            "Collecting mypy-extensions>=0.3.0 (from typing-inspect<1,>=0.4.0->dataclasses-json<0.6.0,>=0.5.7->langchain)\n",
            "  Downloading mypy_extensions-1.0.0-py3-none-any.whl (4.7 kB)\n",
            "Installing collected packages: pydantic, mypy-extensions, marshmallow, typing-inspect, openapi-schema-pydantic, langsmith, dataclasses-json, langchain\n",
            "  Attempting uninstall: pydantic\n",
            "    Found existing installation: pydantic 2.1.1\n",
            "    Uninstalling pydantic-2.1.1:\n",
            "      Successfully uninstalled pydantic-2.1.1\n",
            "Successfully installed dataclasses-json-0.5.14 langchain-0.0.264 langsmith-0.0.22 marshmallow-3.20.1 mypy-extensions-1.0.0 openapi-schema-pydantic-1.2.4 pydantic-1.10.12 typing-inspect-0.9.0\n"
          ]
        }
      ]
    },
    {
      "cell_type": "code",
      "execution_count": 2,
      "id": "8a482e73-7d0c-407f-bd88-9f3c1c7eb559",
      "metadata": {
        "id": "8a482e73-7d0c-407f-bd88-9f3c1c7eb559"
      },
      "outputs": [],
      "source": [
        "from langchain.chat_models import ChatOpenAI\n",
        "from langchain.prompts import ChatPromptTemplate\n",
        "from langchain.chains import SequentialChain, LLMChain"
      ]
    },
    {
      "cell_type": "code",
      "source": [
        "import os"
      ],
      "metadata": {
        "id": "92RA72hV3VgU"
      },
      "id": "92RA72hV3VgU",
      "execution_count": 5,
      "outputs": []
    },
    {
      "cell_type": "code",
      "execution_count": 7,
      "id": "dda2db90-b54b-422e-baff-2bd96faeaaeb",
      "metadata": {
        "id": "dda2db90-b54b-422e-baff-2bd96faeaaeb"
      },
      "outputs": [],
      "source": [
        "llm = ChatOpenAI()"
      ]
    },
    {
      "cell_type": "code",
      "execution_count": 8,
      "id": "c2db5816-b29d-4567-b6aa-12e0c74e9331",
      "metadata": {
        "id": "c2db5816-b29d-4567-b6aa-12e0c74e9331"
      },
      "outputs": [],
      "source": [
        "template1 = \"Give a summary of this employee's performance review:\\n{review}\"\n",
        "prompt1 = ChatPromptTemplate.from_template(template1)\n",
        "chain_1 = LLMChain(llm=llm,\n",
        "                     prompt=prompt1,\n",
        "                     output_key=\"review_summary\")"
      ]
    },
    {
      "cell_type": "code",
      "execution_count": 9,
      "id": "2a6c1d04-1fe0-4386-8b3a-4535cbfaff43",
      "metadata": {
        "id": "2a6c1d04-1fe0-4386-8b3a-4535cbfaff43"
      },
      "outputs": [],
      "source": [
        "template2 = \"Identify key employee weaknesses in this review summary:\\n{review_summary}\"\n",
        "prompt2 = ChatPromptTemplate.from_template(template2)\n",
        "chain_2 = LLMChain(llm=llm,\n",
        "                     prompt=prompt2,\n",
        "                     output_key=\"weaknesses\")"
      ]
    },
    {
      "cell_type": "code",
      "execution_count": 10,
      "id": "8031844b-586e-44b5-ac74-23b3767a9413",
      "metadata": {
        "id": "8031844b-586e-44b5-ac74-23b3767a9413"
      },
      "outputs": [],
      "source": [
        "template3 = \"Create a personalized plan to help address and fix these weaknesses:\\n{weaknesses}\"\n",
        "prompt3 = ChatPromptTemplate.from_template(template3)\n",
        "chain_3 = LLMChain(llm=llm,\n",
        "                     prompt=prompt3,\n",
        "                     output_key=\"final_plan\")"
      ]
    },
    {
      "cell_type": "code",
      "execution_count": 11,
      "id": "9e93a32e-3199-447c-ab17-22585d80422d",
      "metadata": {
        "id": "9e93a32e-3199-447c-ab17-22585d80422d"
      },
      "outputs": [],
      "source": [
        "seq_chain = SequentialChain(chains=[chain_1,chain_2,chain_3],\n",
        "                            input_variables=['review'],\n",
        "                            output_variables=['review_summary','weaknesses','final_plan'],\n",
        "                            verbose=True)"
      ]
    },
    {
      "cell_type": "code",
      "execution_count": 12,
      "id": "0e6013f5-40c9-401b-9d45-98b52de1bb3f",
      "metadata": {
        "id": "0e6013f5-40c9-401b-9d45-98b52de1bb3f"
      },
      "outputs": [],
      "source": [
        "employee_review = '''\n",
        "Employee Information:\n",
        "Name: Joe Schmo\n",
        "Position: Software Engineer\n",
        "Date of Review: July 14, 2023\n",
        "\n",
        "Strengths:\n",
        "Joe is a highly skilled software engineer with a deep understanding of programming languages, algorithms, and software development best practices. His technical expertise shines through in his ability to efficiently solve complex problems and deliver high-quality code.\n",
        "\n",
        "One of Joe's greatest strengths is his collaborative nature. He actively engages with cross-functional teams, contributing valuable insights and seeking input from others. His open-mindedness and willingness to learn from colleagues make him a true team player.\n",
        "\n",
        "Joe consistently demonstrates initiative and self-motivation. He takes the lead in seeking out new projects and challenges, and his proactive attitude has led to significant improvements in existing processes and systems. His dedication to self-improvement and growth is commendable.\n",
        "\n",
        "Another notable strength is Joe's adaptability. He has shown great flexibility in handling changing project requirements and learning new technologies. This adaptability allows him to seamlessly transition between different projects and tasks, making him a valuable asset to the team.\n",
        "\n",
        "Joe's problem-solving skills are exceptional. He approaches issues with a logical mindset and consistently finds effective solutions, often thinking outside the box. His ability to break down complex problems into manageable parts is key to his success in resolving issues efficiently.\n",
        "\n",
        "Weaknesses:\n",
        "While Joe possesses numerous strengths, there are a few areas where he could benefit from improvement. One such area is time management. Occasionally, Joe struggles with effectively managing his time, resulting in missed deadlines or the need for additional support to complete tasks on time. Developing better prioritization and time management techniques would greatly enhance his efficiency.\n",
        "\n",
        "Another area for improvement is Joe's written communication skills. While he communicates well verbally, there have been instances where his written documentation lacked clarity, leading to confusion among team members. Focusing on enhancing his written communication abilities will help him effectively convey ideas and instructions.\n",
        "\n",
        "Additionally, Joe tends to take on too many responsibilities and hesitates to delegate tasks to others. This can result in an excessive workload and potential burnout. Encouraging him to delegate tasks appropriately will not only alleviate his own workload but also foster a more balanced and productive team environment.\n",
        "'''"
      ]
    },
    {
      "cell_type": "code",
      "execution_count": 13,
      "id": "406813b0-b79d-4056-8dbc-923e1986df41",
      "metadata": {
        "colab": {
          "base_uri": "https://localhost:8080/"
        },
        "id": "406813b0-b79d-4056-8dbc-923e1986df41",
        "outputId": "10f3fbf9-c201-4cfe-9736-46be3473adf6"
      },
      "outputs": [
        {
          "output_type": "stream",
          "name": "stdout",
          "text": [
            "\n",
            "\n",
            "\u001b[1m> Entering new SequentialChain chain...\u001b[0m\n",
            "\n",
            "\u001b[1m> Finished chain.\u001b[0m\n"
          ]
        }
      ],
      "source": [
        "results = seq_chain(employee_review)"
      ]
    },
    {
      "cell_type": "code",
      "execution_count": 14,
      "id": "be395801-2e84-4686-9203-3857f8b5934b",
      "metadata": {
        "colab": {
          "base_uri": "https://localhost:8080/"
        },
        "id": "be395801-2e84-4686-9203-3857f8b5934b",
        "outputId": "9289e55c-bad6-4988-8796-3a3adf2a287a"
      },
      "outputs": [
        {
          "output_type": "execute_result",
          "data": {
            "text/plain": [
              "{'review': \"\\nEmployee Information:\\nName: Joe Schmo\\nPosition: Software Engineer\\nDate of Review: July 14, 2023\\n\\nStrengths:\\nJoe is a highly skilled software engineer with a deep understanding of programming languages, algorithms, and software development best practices. His technical expertise shines through in his ability to efficiently solve complex problems and deliver high-quality code.\\n\\nOne of Joe's greatest strengths is his collaborative nature. He actively engages with cross-functional teams, contributing valuable insights and seeking input from others. His open-mindedness and willingness to learn from colleagues make him a true team player.\\n\\nJoe consistently demonstrates initiative and self-motivation. He takes the lead in seeking out new projects and challenges, and his proactive attitude has led to significant improvements in existing processes and systems. His dedication to self-improvement and growth is commendable.\\n\\nAnother notable strength is Joe's adaptability. He has shown great flexibility in handling changing project requirements and learning new technologies. This adaptability allows him to seamlessly transition between different projects and tasks, making him a valuable asset to the team.\\n\\nJoe's problem-solving skills are exceptional. He approaches issues with a logical mindset and consistently finds effective solutions, often thinking outside the box. His ability to break down complex problems into manageable parts is key to his success in resolving issues efficiently.\\n\\nWeaknesses:\\nWhile Joe possesses numerous strengths, there are a few areas where he could benefit from improvement. One such area is time management. Occasionally, Joe struggles with effectively managing his time, resulting in missed deadlines or the need for additional support to complete tasks on time. Developing better prioritization and time management techniques would greatly enhance his efficiency.\\n\\nAnother area for improvement is Joe's written communication skills. While he communicates well verbally, there have been instances where his written documentation lacked clarity, leading to confusion among team members. Focusing on enhancing his written communication abilities will help him effectively convey ideas and instructions.\\n\\nAdditionally, Joe tends to take on too many responsibilities and hesitates to delegate tasks to others. This can result in an excessive workload and potential burnout. Encouraging him to delegate tasks appropriately will not only alleviate his own workload but also foster a more balanced and productive team environment.\\n\",\n",
              " 'review_summary': 'Joe Schmo, a software engineer, received a positive performance review. He is highly skilled and knowledgeable in programming languages, algorithms, and software development best practices. Joe is known for his collaborative nature, actively engaging with cross-functional teams and seeking input from others. He consistently demonstrates initiative, taking the lead in seeking out new projects and challenges. Joe is adaptable and handles changing project requirements and learning new technologies well. His problem-solving skills are exceptional, as he approaches issues with a logical mindset and finds effective solutions. However, Joe could improve in time management, as he occasionally struggles to meet deadlines. His written communication skills could also be enhanced to provide clearer documentation. Additionally, Joe tends to take on too many responsibilities and should delegate tasks to others more effectively to prevent burnout and foster a productive team environment.',\n",
              " 'weaknesses': \"Key employee weaknesses identified in this review summary are:\\n\\n1. Time management: Joe occasionally struggles to meet deadlines.\\n2. Written communication skills: Joe's written communication skills could be enhanced to provide clearer documentation.\\n3. Delegation: Joe tends to take on too many responsibilities and should delegate tasks to others more effectively.\\n4. Burnout prevention: Joe should delegate tasks to prevent burnout and foster a productive team environment.\",\n",
              " 'final_plan': \"Personalized Plan to Address and Fix Employee Weaknesses:\\n\\n1. Time management:\\n- Schedule regular check-ins with Joe to discuss ongoing projects and deadlines.\\n- Provide Joe with tools and resources to improve time management skills, such as time-tracking apps or project management software.\\n- Encourage Joe to prioritize tasks and break them down into smaller, manageable steps.\\n- Set clear and realistic deadlines for Joe and ensure he understands the consequences of missing them.\\n- Offer support and guidance in time management techniques, such as the Pomodoro Technique or creating a daily/weekly to-do list.\\n\\n2. Written communication skills:\\n- Offer training or workshops on effective written communication, such as business writing or email etiquette.\\n- Provide Joe with templates or examples to follow when creating documentation.\\n- Assign a mentor or team member with strong written communication skills to review and provide feedback on Joe's written work.\\n- Encourage Joe to take the time to proofread and revise his written communication before finalizing or sending it.\\n- Offer opportunities for Joe to practice his written communication skills, such as writing reports or presentations for team meetings.\\n\\n3. Delegation:\\n- Conduct a thorough review of Joe's workload and determine tasks that can be delegated to other team members.\\n- Clearly communicate the importance of delegation and the benefits it brings to both Joe and the team.\\n- Set expectations for Joe to delegate a certain percentage of his workload to others.\\n- Provide training or resources on effective delegation techniques and how to identify suitable tasks for delegation.\\n- Monitor and provide feedback on Joe's delegation efforts to ensure he is effectively distributing tasks.\\n\\n4. Burnout prevention:\\n- Regularly check in with Joe to assess his workload and stress levels.\\n- Encourage Joe to create a healthy work-life balance by setting boundaries and taking breaks when needed.\\n- Provide resources on stress management and relaxation techniques, such as mindfulness exercises or time management strategies.\\n- Foster a team environment that values work-life balance and supports each other's well-being.\\n- Encourage Joe to take advantage of any available employee assistance programs or counseling services.\\n\\nOverall, it is essential to provide ongoing support, guidance, and resources to Joe to help him address and improve his weaknesses. Regular feedback, training, and opportunities for growth will help him develop the necessary skills and habits to overcome these weaknesses and become a more effective and productive team member.\"}"
            ]
          },
          "metadata": {},
          "execution_count": 14
        }
      ],
      "source": [
        "results"
      ]
    },
    {
      "cell_type": "code",
      "execution_count": null,
      "id": "2edc6866-769b-47ee-921d-ae40eb9891eb",
      "metadata": {
        "id": "2edc6866-769b-47ee-921d-ae40eb9891eb",
        "outputId": "c824c61e-17ab-4406-8745-1c01d92c9386"
      },
      "outputs": [
        {
          "name": "stdout",
          "output_type": "stream",
          "text": [
            "To address and fix these weaknesses, the following personalized plan can be implemented for Joe:\n",
            "\n",
            "1. Time management:\n",
            "\n",
            "- Set clear goals and priorities: Joe should start each day by identifying the most important tasks that need to be accomplished and prioritize them accordingly. This will help him stay focused and ensure that he completes critical tasks on time.\n",
            "- Break tasks into smaller, manageable chunks: Large projects can be overwhelming and lead to procrastination. Joe should break them down into smaller, more manageable tasks, setting specific deadlines for each subtask. This will help him track progress and stay on schedule.\n",
            "- Use time management tools: Joe can utilize various time management tools, such as calendars, task management apps, or project management software, to help him stay organized and prioritize tasks effectively.\n",
            "\n",
            "2. Written communication skills:\n",
            "\n",
            "- Seek feedback and guidance: Joe should actively seek feedback from his colleagues or supervisors on his written communication skills. This feedback can help identify specific areas for improvement and provide guidance on how to enhance his written communication abilities.\n",
            "- Take writing courses or workshops: Joe can enroll in writing courses or workshops to improve his written communication skills. These courses can provide him with practical tips and techniques for conveying information effectively and ensure that his written documentation, emails, and reports are clear and concise.\n",
            "- Practice writing regularly: Joe should make an effort to practice his writing skills regularly. This can include writing memos, reports, or even maintaining a personal blog. Regular practice will help him become more comfortable and proficient in conveying his ideas through written communication.\n",
            "\n",
            "3. Delegation of tasks:\n",
            "\n",
            "- Identify tasks suitable for delegation: Joe should assess his workload and identify tasks that can be delegated to others without compromising quality or efficiency. This will help him free up time for more critical tasks and develop trust in his colleagues' abilities.\n",
            "- Communicate expectations clearly: When delegating tasks, Joe should clearly communicate his expectations, including deadlines, desired outcomes, and any necessary guidelines or resources. This will ensure that delegated tasks are completed efficiently and effectively.\n",
            "- Provide support and feedback: Joe should offer support to colleagues to whom he delegates tasks. This can include providing resources, answering questions, or offering guidance when needed. Additionally, he should provide constructive feedback on completed tasks to help improve the overall delegation process.\n",
            "\n",
            "Regular self-assessments and discussions with supervisors or mentors can help track progress and identify any further areas of improvement. Implementing this personalized plan will enable Joe to address his weaknesses and enhance his overall performance as a software engineer.\n"
          ]
        }
      ],
      "source": [
        "print(results['final_plan'])"
      ]
    },
    {
      "cell_type": "code",
      "execution_count": null,
      "id": "15760213-e3a3-443a-9fe7-17d14c438ac5",
      "metadata": {
        "id": "15760213-e3a3-443a-9fe7-17d14c438ac5"
      },
      "outputs": [],
      "source": []
    }
  ],
  "metadata": {
    "kernelspec": {
      "display_name": "Python 3 (ipykernel)",
      "language": "python",
      "name": "python3"
    },
    "language_info": {
      "codemirror_mode": {
        "name": "ipython",
        "version": 3
      },
      "file_extension": ".py",
      "mimetype": "text/x-python",
      "name": "python",
      "nbconvert_exporter": "python",
      "pygments_lexer": "ipython3",
      "version": "3.9.12"
    },
    "colab": {
      "provenance": [],
      "include_colab_link": true
    }
  },
  "nbformat": 4,
  "nbformat_minor": 5
}