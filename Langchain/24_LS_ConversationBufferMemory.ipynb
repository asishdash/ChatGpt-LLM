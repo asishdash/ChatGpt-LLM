{
  "cells": [
    {
      "cell_type": "markdown",
      "metadata": {
        "id": "view-in-github",
        "colab_type": "text"
      },
      "source": [
        "<a href=\"https://colab.research.google.com/github/asishdash/ChatGpt-LLM/blob/main/Langchain/24_LS_ConversationBufferMemory.ipynb\" target=\"_parent\"><img src=\"https://colab.research.google.com/assets/colab-badge.svg\" alt=\"Open In Colab\"/></a>"
      ]
    },
    {
      "cell_type": "markdown",
      "id": "728f1747-b8fc-4d31-96c2-047fc83c079d",
      "metadata": {
        "id": "728f1747-b8fc-4d31-96c2-047fc83c079d"
      },
      "source": [
        "#  ConversationBufferMemory"
      ]
    },
    {
      "cell_type": "code",
      "source": [
        "!pip install openai\n",
        "!pip install langchain"
      ],
      "metadata": {
        "colab": {
          "base_uri": "https://localhost:8080/"
        },
        "id": "sjuJxHKtRRcN",
        "outputId": "ea6ed73c-7780-4cb7-e2f8-839084ea35d9"
      },
      "id": "sjuJxHKtRRcN",
      "execution_count": 1,
      "outputs": [
        {
          "output_type": "stream",
          "name": "stdout",
          "text": [
            "Collecting openai\n",
            "  Downloading openai-0.27.8-py3-none-any.whl (73 kB)\n",
            "\u001b[?25l     \u001b[90m━━━━━━━━━━━━━━━━━━━━━━━━━━━━━━━━━━━━━━━━\u001b[0m \u001b[32m0.0/73.6 kB\u001b[0m \u001b[31m?\u001b[0m eta \u001b[36m-:--:--\u001b[0m\r\u001b[2K     \u001b[91m━━━━━━━━━━━━━━━━━━━━━━━━━━━━━━━━━━━━━━\u001b[0m\u001b[91m╸\u001b[0m\u001b[90m━\u001b[0m \u001b[32m71.7/73.6 kB\u001b[0m \u001b[31m2.3 MB/s\u001b[0m eta \u001b[36m0:00:01\u001b[0m\r\u001b[2K     \u001b[90m━━━━━━━━━━━━━━━━━━━━━━━━━━━━━━━━━━━━━━━━\u001b[0m \u001b[32m73.6/73.6 kB\u001b[0m \u001b[31m1.9 MB/s\u001b[0m eta \u001b[36m0:00:00\u001b[0m\n",
            "\u001b[?25hRequirement already satisfied: requests>=2.20 in /usr/local/lib/python3.10/dist-packages (from openai) (2.31.0)\n",
            "Requirement already satisfied: tqdm in /usr/local/lib/python3.10/dist-packages (from openai) (4.66.0)\n",
            "Requirement already satisfied: aiohttp in /usr/local/lib/python3.10/dist-packages (from openai) (3.8.5)\n",
            "Requirement already satisfied: charset-normalizer<4,>=2 in /usr/local/lib/python3.10/dist-packages (from requests>=2.20->openai) (3.2.0)\n",
            "Requirement already satisfied: idna<4,>=2.5 in /usr/local/lib/python3.10/dist-packages (from requests>=2.20->openai) (3.4)\n",
            "Requirement already satisfied: urllib3<3,>=1.21.1 in /usr/local/lib/python3.10/dist-packages (from requests>=2.20->openai) (2.0.4)\n",
            "Requirement already satisfied: certifi>=2017.4.17 in /usr/local/lib/python3.10/dist-packages (from requests>=2.20->openai) (2023.7.22)\n",
            "Requirement already satisfied: attrs>=17.3.0 in /usr/local/lib/python3.10/dist-packages (from aiohttp->openai) (23.1.0)\n",
            "Requirement already satisfied: multidict<7.0,>=4.5 in /usr/local/lib/python3.10/dist-packages (from aiohttp->openai) (6.0.4)\n",
            "Requirement already satisfied: async-timeout<5.0,>=4.0.0a3 in /usr/local/lib/python3.10/dist-packages (from aiohttp->openai) (4.0.2)\n",
            "Requirement already satisfied: yarl<2.0,>=1.0 in /usr/local/lib/python3.10/dist-packages (from aiohttp->openai) (1.9.2)\n",
            "Requirement already satisfied: frozenlist>=1.1.1 in /usr/local/lib/python3.10/dist-packages (from aiohttp->openai) (1.4.0)\n",
            "Requirement already satisfied: aiosignal>=1.1.2 in /usr/local/lib/python3.10/dist-packages (from aiohttp->openai) (1.3.1)\n",
            "Installing collected packages: openai\n",
            "Successfully installed openai-0.27.8\n",
            "Collecting langchain\n",
            "  Downloading langchain-0.0.264-py3-none-any.whl (1.5 MB)\n",
            "\u001b[2K     \u001b[90m━━━━━━━━━━━━━━━━━━━━━━━━━━━━━━━━━━━━━━━━\u001b[0m \u001b[32m1.5/1.5 MB\u001b[0m \u001b[31m11.1 MB/s\u001b[0m eta \u001b[36m0:00:00\u001b[0m\n",
            "\u001b[?25hRequirement already satisfied: PyYAML>=5.3 in /usr/local/lib/python3.10/dist-packages (from langchain) (6.0.1)\n",
            "Requirement already satisfied: SQLAlchemy<3,>=1.4 in /usr/local/lib/python3.10/dist-packages (from langchain) (2.0.19)\n",
            "Requirement already satisfied: aiohttp<4.0.0,>=3.8.3 in /usr/local/lib/python3.10/dist-packages (from langchain) (3.8.5)\n",
            "Requirement already satisfied: async-timeout<5.0.0,>=4.0.0 in /usr/local/lib/python3.10/dist-packages (from langchain) (4.0.2)\n",
            "Collecting dataclasses-json<0.6.0,>=0.5.7 (from langchain)\n",
            "  Downloading dataclasses_json-0.5.14-py3-none-any.whl (26 kB)\n",
            "Collecting langsmith<0.1.0,>=0.0.11 (from langchain)\n",
            "  Downloading langsmith-0.0.22-py3-none-any.whl (32 kB)\n",
            "Requirement already satisfied: numexpr<3.0.0,>=2.8.4 in /usr/local/lib/python3.10/dist-packages (from langchain) (2.8.5)\n",
            "Requirement already satisfied: numpy<2,>=1 in /usr/local/lib/python3.10/dist-packages (from langchain) (1.23.5)\n",
            "Collecting openapi-schema-pydantic<2.0,>=1.2 (from langchain)\n",
            "  Downloading openapi_schema_pydantic-1.2.4-py3-none-any.whl (90 kB)\n",
            "\u001b[2K     \u001b[90m━━━━━━━━━━━━━━━━━━━━━━━━━━━━━━━━━━━━━━━━\u001b[0m \u001b[32m90.0/90.0 kB\u001b[0m \u001b[31m9.6 MB/s\u001b[0m eta \u001b[36m0:00:00\u001b[0m\n",
            "\u001b[?25hCollecting pydantic<2,>=1 (from langchain)\n",
            "  Downloading pydantic-1.10.12-cp310-cp310-manylinux_2_17_x86_64.manylinux2014_x86_64.whl (3.1 MB)\n",
            "\u001b[2K     \u001b[90m━━━━━━━━━━━━━━━━━━━━━━━━━━━━━━━━━━━━━━━━\u001b[0m \u001b[32m3.1/3.1 MB\u001b[0m \u001b[31m17.6 MB/s\u001b[0m eta \u001b[36m0:00:00\u001b[0m\n",
            "\u001b[?25hRequirement already satisfied: requests<3,>=2 in /usr/local/lib/python3.10/dist-packages (from langchain) (2.31.0)\n",
            "Requirement already satisfied: tenacity<9.0.0,>=8.1.0 in /usr/local/lib/python3.10/dist-packages (from langchain) (8.2.2)\n",
            "Requirement already satisfied: attrs>=17.3.0 in /usr/local/lib/python3.10/dist-packages (from aiohttp<4.0.0,>=3.8.3->langchain) (23.1.0)\n",
            "Requirement already satisfied: charset-normalizer<4.0,>=2.0 in /usr/local/lib/python3.10/dist-packages (from aiohttp<4.0.0,>=3.8.3->langchain) (3.2.0)\n",
            "Requirement already satisfied: multidict<7.0,>=4.5 in /usr/local/lib/python3.10/dist-packages (from aiohttp<4.0.0,>=3.8.3->langchain) (6.0.4)\n",
            "Requirement already satisfied: yarl<2.0,>=1.0 in /usr/local/lib/python3.10/dist-packages (from aiohttp<4.0.0,>=3.8.3->langchain) (1.9.2)\n",
            "Requirement already satisfied: frozenlist>=1.1.1 in /usr/local/lib/python3.10/dist-packages (from aiohttp<4.0.0,>=3.8.3->langchain) (1.4.0)\n",
            "Requirement already satisfied: aiosignal>=1.1.2 in /usr/local/lib/python3.10/dist-packages (from aiohttp<4.0.0,>=3.8.3->langchain) (1.3.1)\n",
            "Collecting marshmallow<4.0.0,>=3.18.0 (from dataclasses-json<0.6.0,>=0.5.7->langchain)\n",
            "  Downloading marshmallow-3.20.1-py3-none-any.whl (49 kB)\n",
            "\u001b[2K     \u001b[90m━━━━━━━━━━━━━━━━━━━━━━━━━━━━━━━━━━━━━━━━\u001b[0m \u001b[32m49.4/49.4 kB\u001b[0m \u001b[31m2.7 MB/s\u001b[0m eta \u001b[36m0:00:00\u001b[0m\n",
            "\u001b[?25hCollecting typing-inspect<1,>=0.4.0 (from dataclasses-json<0.6.0,>=0.5.7->langchain)\n",
            "  Downloading typing_inspect-0.9.0-py3-none-any.whl (8.8 kB)\n",
            "Requirement already satisfied: typing-extensions>=4.2.0 in /usr/local/lib/python3.10/dist-packages (from pydantic<2,>=1->langchain) (4.7.1)\n",
            "Requirement already satisfied: idna<4,>=2.5 in /usr/local/lib/python3.10/dist-packages (from requests<3,>=2->langchain) (3.4)\n",
            "Requirement already satisfied: urllib3<3,>=1.21.1 in /usr/local/lib/python3.10/dist-packages (from requests<3,>=2->langchain) (2.0.4)\n",
            "Requirement already satisfied: certifi>=2017.4.17 in /usr/local/lib/python3.10/dist-packages (from requests<3,>=2->langchain) (2023.7.22)\n",
            "Requirement already satisfied: greenlet!=0.4.17 in /usr/local/lib/python3.10/dist-packages (from SQLAlchemy<3,>=1.4->langchain) (2.0.2)\n",
            "Requirement already satisfied: packaging>=17.0 in /usr/local/lib/python3.10/dist-packages (from marshmallow<4.0.0,>=3.18.0->dataclasses-json<0.6.0,>=0.5.7->langchain) (23.1)\n",
            "Collecting mypy-extensions>=0.3.0 (from typing-inspect<1,>=0.4.0->dataclasses-json<0.6.0,>=0.5.7->langchain)\n",
            "  Downloading mypy_extensions-1.0.0-py3-none-any.whl (4.7 kB)\n",
            "Installing collected packages: pydantic, mypy-extensions, marshmallow, typing-inspect, openapi-schema-pydantic, langsmith, dataclasses-json, langchain\n",
            "  Attempting uninstall: pydantic\n",
            "    Found existing installation: pydantic 2.1.1\n",
            "    Uninstalling pydantic-2.1.1:\n",
            "      Successfully uninstalled pydantic-2.1.1\n",
            "Successfully installed dataclasses-json-0.5.14 langchain-0.0.264 langsmith-0.0.22 marshmallow-3.20.1 mypy-extensions-1.0.0 openapi-schema-pydantic-1.2.4 pydantic-1.10.12 typing-inspect-0.9.0\n"
          ]
        }
      ]
    },
    {
      "cell_type": "code",
      "execution_count": 2,
      "id": "261e60bc-9653-4acf-91fe-d088f49d494a",
      "metadata": {
        "id": "261e60bc-9653-4acf-91fe-d088f49d494a"
      },
      "outputs": [],
      "source": [
        "from langchain.chat_models import ChatOpenAI\n",
        "from langchain.chains import ConversationChain\n",
        "from langchain.memory import ConversationBufferMemory"
      ]
    },
    {
      "cell_type": "code",
      "source": [
        "import os"
      ],
      "metadata": {
        "id": "qyCYj0zSRpek"
      },
      "id": "qyCYj0zSRpek",
      "execution_count": 9,
      "outputs": []
    },
    {
      "cell_type": "code",
      "execution_count": 10,
      "id": "4c741139-a54e-46c9-af29-2ba64f914f15",
      "metadata": {
        "id": "4c741139-a54e-46c9-af29-2ba64f914f15"
      },
      "outputs": [],
      "source": [
        "llm = ChatOpenAI(temperature=0.0)\n",
        "memory = ConversationBufferMemory()"
      ]
    },
    {
      "cell_type": "markdown",
      "id": "bea4a9b5-e52c-44a1-a8c2-6d1c3eed2f1a",
      "metadata": {
        "id": "bea4a9b5-e52c-44a1-a8c2-6d1c3eed2f1a"
      },
      "source": [
        "## Connect Conversation to Memory"
      ]
    },
    {
      "cell_type": "code",
      "execution_count": 11,
      "id": "ad3336a7-d2ff-4c7d-bd28-f55f45367608",
      "metadata": {
        "id": "ad3336a7-d2ff-4c7d-bd28-f55f45367608"
      },
      "outputs": [],
      "source": [
        "conversation = ConversationChain(\n",
        "    llm=llm,\n",
        "    memory = memory,\n",
        "    verbose=True\n",
        ")"
      ]
    },
    {
      "cell_type": "code",
      "execution_count": 12,
      "id": "c3443ca2-3ce9-4d4e-9775-c634e8b36832",
      "metadata": {
        "colab": {
          "base_uri": "https://localhost:8080/",
          "height": 287
        },
        "id": "c3443ca2-3ce9-4d4e-9775-c634e8b36832",
        "outputId": "919643f5-26e8-4cb4-ea7a-b6fb7f7e645d"
      },
      "outputs": [
        {
          "output_type": "stream",
          "name": "stdout",
          "text": [
            "\n",
            "\n",
            "\u001b[1m> Entering new ConversationChain chain...\u001b[0m\n",
            "Prompt after formatting:\n",
            "\u001b[32;1m\u001b[1;3mThe following is a friendly conversation between a human and an AI. The AI is talkative and provides lots of specific details from its context. If the AI does not know the answer to a question, it truthfully says it does not know.\n",
            "\n",
            "Current conversation:\n",
            "\n",
            "Human: Hello, nice to meet you!\n",
            "AI:\u001b[0m\n",
            "\n",
            "\u001b[1m> Finished chain.\u001b[0m\n"
          ]
        },
        {
          "output_type": "execute_result",
          "data": {
            "text/plain": [
              "\"Hello! Nice to meet you too! I'm an AI trained to have conversations and provide information. How can I assist you today?\""
            ],
            "application/vnd.google.colaboratory.intrinsic+json": {
              "type": "string"
            }
          },
          "metadata": {},
          "execution_count": 12
        }
      ],
      "source": [
        "conversation.predict(input=\"Hello, nice to meet you!\")"
      ]
    },
    {
      "cell_type": "code",
      "execution_count": 13,
      "id": "0f9c4c74-a8fc-4a75-9ddc-0b6a8412e364",
      "metadata": {
        "colab": {
          "base_uri": "https://localhost:8080/",
          "height": 431
        },
        "id": "0f9c4c74-a8fc-4a75-9ddc-0b6a8412e364",
        "outputId": "2cda5111-758f-47d2-b2c4-c87b1e951be5"
      },
      "outputs": [
        {
          "output_type": "stream",
          "name": "stdout",
          "text": [
            "\n",
            "\n",
            "\u001b[1m> Entering new ConversationChain chain...\u001b[0m\n",
            "Prompt after formatting:\n",
            "\u001b[32;1m\u001b[1;3mThe following is a friendly conversation between a human and an AI. The AI is talkative and provides lots of specific details from its context. If the AI does not know the answer to a question, it truthfully says it does not know.\n",
            "\n",
            "Current conversation:\n",
            "Human: Hello, nice to meet you!\n",
            "AI: Hello! Nice to meet you too! I'm an AI trained to have conversations and provide information. How can I assist you today?\n",
            "Human: Tell me about the Einstein-Szilard Letter \n",
            "AI:\u001b[0m\n",
            "\n",
            "\u001b[1m> Finished chain.\u001b[0m\n"
          ]
        },
        {
          "output_type": "execute_result",
          "data": {
            "text/plain": [
              "'The Einstein-Szilard Letter, also known as the Einstein-Szilard Petition, was a letter written by physicist Albert Einstein and his colleague Leo Szilard. It was sent to President Franklin D. Roosevelt on August 2, 1939, during the early stages of World War II. The letter warned Roosevelt about the potential development of atomic weapons by Nazi Germany and urged the United States to begin its own research into nuclear technology.\\n\\nIn the letter, Einstein and Szilard explained the scientific principles behind nuclear fission and emphasized the destructive power that could be harnessed from it. They argued that the United States should take the lead in developing atomic weapons to ensure that they would not fall into the wrong hands.\\n\\nThis letter played a significant role in the establishment of the Manhattan Project, a top-secret research program that ultimately led to the development of the atomic bomb. It is considered a pivotal moment in the history of nuclear weapons and the beginning of the nuclear arms race between the United States and the Soviet Union.'"
            ],
            "application/vnd.google.colaboratory.intrinsic+json": {
              "type": "string"
            }
          },
          "metadata": {},
          "execution_count": 13
        }
      ],
      "source": [
        "conversation.predict(input=\"Tell me about the Einstein-Szilard Letter \")"
      ]
    },
    {
      "cell_type": "code",
      "execution_count": 14,
      "id": "dce17805-aa75-4f56-832b-12272b389210",
      "metadata": {
        "colab": {
          "base_uri": "https://localhost:8080/"
        },
        "id": "dce17805-aa75-4f56-832b-12272b389210",
        "outputId": "2449422d-328b-4089-e2b3-e223c8715d39"
      },
      "outputs": [
        {
          "output_type": "stream",
          "name": "stdout",
          "text": [
            "Human: Hello, nice to meet you!\n",
            "AI: Hello! Nice to meet you too! I'm an AI trained to have conversations and provide information. How can I assist you today?\n",
            "Human: Tell me about the Einstein-Szilard Letter \n",
            "AI: The Einstein-Szilard Letter, also known as the Einstein-Szilard Petition, was a letter written by physicist Albert Einstein and his colleague Leo Szilard. It was sent to President Franklin D. Roosevelt on August 2, 1939, during the early stages of World War II. The letter warned Roosevelt about the potential development of atomic weapons by Nazi Germany and urged the United States to begin its own research into nuclear technology.\n",
            "\n",
            "In the letter, Einstein and Szilard explained the scientific principles behind nuclear fission and emphasized the destructive power that could be harnessed from it. They argued that the United States should take the lead in developing atomic weapons to ensure that they would not fall into the wrong hands.\n",
            "\n",
            "This letter played a significant role in the establishment of the Manhattan Project, a top-secret research program that ultimately led to the development of the atomic bomb. It is considered a pivotal moment in the history of nuclear weapons and the beginning of the nuclear arms race between the United States and the Soviet Union.\n"
          ]
        }
      ],
      "source": [
        "print(memory.buffer)"
      ]
    },
    {
      "cell_type": "code",
      "execution_count": 15,
      "id": "06bfdc45-81d0-481b-84fa-5cf7848194a4",
      "metadata": {
        "colab": {
          "base_uri": "https://localhost:8080/"
        },
        "id": "06bfdc45-81d0-481b-84fa-5cf7848194a4",
        "outputId": "277497b1-4e8a-4dd0-fa12-ecc71f8a7d2f"
      },
      "outputs": [
        {
          "output_type": "execute_result",
          "data": {
            "text/plain": [
              "{'history': \"Human: Hello, nice to meet you!\\nAI: Hello! Nice to meet you too! I'm an AI trained to have conversations and provide information. How can I assist you today?\\nHuman: Tell me about the Einstein-Szilard Letter \\nAI: The Einstein-Szilard Letter, also known as the Einstein-Szilard Petition, was a letter written by physicist Albert Einstein and his colleague Leo Szilard. It was sent to President Franklin D. Roosevelt on August 2, 1939, during the early stages of World War II. The letter warned Roosevelt about the potential development of atomic weapons by Nazi Germany and urged the United States to begin its own research into nuclear technology.\\n\\nIn the letter, Einstein and Szilard explained the scientific principles behind nuclear fission and emphasized the destructive power that could be harnessed from it. They argued that the United States should take the lead in developing atomic weapons to ensure that they would not fall into the wrong hands.\\n\\nThis letter played a significant role in the establishment of the Manhattan Project, a top-secret research program that ultimately led to the development of the atomic bomb. It is considered a pivotal moment in the history of nuclear weapons and the beginning of the nuclear arms race between the United States and the Soviet Union.\"}"
            ]
          },
          "metadata": {},
          "execution_count": 15
        }
      ],
      "source": [
        "memory.load_memory_variables({})"
      ]
    },
    {
      "cell_type": "code",
      "execution_count": 16,
      "id": "da9fe5b3-1b52-4611-bf67-ee81a251053f",
      "metadata": {
        "id": "da9fe5b3-1b52-4611-bf67-ee81a251053f"
      },
      "outputs": [],
      "source": [
        "memory.save_context({\"input\": \"Very Interesting.\"},\n",
        "                    {\"output\": \"Yes, it was my pleasure as an AI to answer.\"})"
      ]
    },
    {
      "cell_type": "code",
      "execution_count": 17,
      "id": "228792b0-afd2-46c3-bb5d-c3ed48fec31b",
      "metadata": {
        "colab": {
          "base_uri": "https://localhost:8080/"
        },
        "id": "228792b0-afd2-46c3-bb5d-c3ed48fec31b",
        "outputId": "cce91190-098b-4688-f246-74643d4e8a4b"
      },
      "outputs": [
        {
          "output_type": "execute_result",
          "data": {
            "text/plain": [
              "{'history': \"Human: Hello, nice to meet you!\\nAI: Hello! Nice to meet you too! I'm an AI trained to have conversations and provide information. How can I assist you today?\\nHuman: Tell me about the Einstein-Szilard Letter \\nAI: The Einstein-Szilard Letter, also known as the Einstein-Szilard Petition, was a letter written by physicist Albert Einstein and his colleague Leo Szilard. It was sent to President Franklin D. Roosevelt on August 2, 1939, during the early stages of World War II. The letter warned Roosevelt about the potential development of atomic weapons by Nazi Germany and urged the United States to begin its own research into nuclear technology.\\n\\nIn the letter, Einstein and Szilard explained the scientific principles behind nuclear fission and emphasized the destructive power that could be harnessed from it. They argued that the United States should take the lead in developing atomic weapons to ensure that they would not fall into the wrong hands.\\n\\nThis letter played a significant role in the establishment of the Manhattan Project, a top-secret research program that ultimately led to the development of the atomic bomb. It is considered a pivotal moment in the history of nuclear weapons and the beginning of the nuclear arms race between the United States and the Soviet Union.\\nHuman: Very Interesting.\\nAI: Yes, it was my pleasure as an AI to answer.\"}"
            ]
          },
          "metadata": {},
          "execution_count": 17
        }
      ],
      "source": [
        "memory.load_memory_variables({})"
      ]
    },
    {
      "cell_type": "markdown",
      "id": "651ba6fb-40c6-4d2c-ac55-3bc9607336a9",
      "metadata": {
        "id": "651ba6fb-40c6-4d2c-ac55-3bc9607336a9"
      },
      "source": [
        "## Saving and Loading Memory\n",
        "\n",
        "Best Source We've Found: https://stackoverflow.com/questions/75965605/how-to-persist-langchain-conversation-memory-save-and-load"
      ]
    },
    {
      "cell_type": "code",
      "execution_count": 18,
      "id": "57435326-a46b-475c-a093-055b55f7ab1b",
      "metadata": {
        "colab": {
          "base_uri": "https://localhost:8080/"
        },
        "id": "57435326-a46b-475c-a093-055b55f7ab1b",
        "outputId": "6272b669-4cc4-4eab-9785-14e9500bb354"
      },
      "outputs": [
        {
          "output_type": "execute_result",
          "data": {
            "text/plain": [
              "ConversationBufferMemory(chat_memory=ChatMessageHistory(messages=[HumanMessage(content='Hello, nice to meet you!', additional_kwargs={}, example=False), AIMessage(content=\"Hello! Nice to meet you too! I'm an AI trained to have conversations and provide information. How can I assist you today?\", additional_kwargs={}, example=False), HumanMessage(content='Tell me about the Einstein-Szilard Letter ', additional_kwargs={}, example=False), AIMessage(content='The Einstein-Szilard Letter, also known as the Einstein-Szilard Petition, was a letter written by physicist Albert Einstein and his colleague Leo Szilard. It was sent to President Franklin D. Roosevelt on August 2, 1939, during the early stages of World War II. The letter warned Roosevelt about the potential development of atomic weapons by Nazi Germany and urged the United States to begin its own research into nuclear technology.\\n\\nIn the letter, Einstein and Szilard explained the scientific principles behind nuclear fission and emphasized the destructive power that could be harnessed from it. They argued that the United States should take the lead in developing atomic weapons to ensure that they would not fall into the wrong hands.\\n\\nThis letter played a significant role in the establishment of the Manhattan Project, a top-secret research program that ultimately led to the development of the atomic bomb. It is considered a pivotal moment in the history of nuclear weapons and the beginning of the nuclear arms race between the United States and the Soviet Union.', additional_kwargs={}, example=False), HumanMessage(content='Very Interesting.', additional_kwargs={}, example=False), AIMessage(content='Yes, it was my pleasure as an AI to answer.', additional_kwargs={}, example=False)]), output_key=None, input_key=None, return_messages=False, human_prefix='Human', ai_prefix='AI', memory_key='history')"
            ]
          },
          "metadata": {},
          "execution_count": 18
        }
      ],
      "source": [
        "conversation.memory"
      ]
    },
    {
      "cell_type": "code",
      "execution_count": 19,
      "id": "b445e294-ad7d-4f88-8b84-ec9c6bc0a2ad",
      "metadata": {
        "id": "b445e294-ad7d-4f88-8b84-ec9c6bc0a2ad"
      },
      "outputs": [],
      "source": [
        "import pickle\n",
        "pickled_str = pickle.dumps(conversation.memory)"
      ]
    },
    {
      "cell_type": "code",
      "execution_count": 4,
      "id": "822da352-0974-4b51-92fe-78a26fd6c95e",
      "metadata": {
        "id": "822da352-0974-4b51-92fe-78a26fd6c95e"
      },
      "outputs": [],
      "source": [
        "# pickled_str"
      ]
    },
    {
      "cell_type": "code",
      "execution_count": 20,
      "id": "4b582b43-d25e-460e-8fbe-a887b7b3f6ad",
      "metadata": {
        "id": "4b582b43-d25e-460e-8fbe-a887b7b3f6ad"
      },
      "outputs": [],
      "source": [
        "with open('memory.pkl','wb') as f:\n",
        "    f.write(pickled_str)"
      ]
    },
    {
      "cell_type": "code",
      "execution_count": 21,
      "id": "04a5fa1d-acda-44e9-af3f-3129fc4bd32e",
      "metadata": {
        "id": "04a5fa1d-acda-44e9-af3f-3129fc4bd32e"
      },
      "outputs": [],
      "source": [
        "new_memory_load = open('memory.pkl','rb').read()"
      ]
    },
    {
      "cell_type": "code",
      "execution_count": 22,
      "id": "3ea3712f-cadf-4895-92cb-29372018dc37",
      "metadata": {
        "id": "3ea3712f-cadf-4895-92cb-29372018dc37"
      },
      "outputs": [],
      "source": [
        "llm = ChatOpenAI(temperature=0.0)\n",
        "reload_conversation = ConversationChain(\n",
        "    llm=llm,\n",
        "    memory = pickle.loads(new_memory_load),\n",
        "    verbose=True\n",
        ")"
      ]
    },
    {
      "cell_type": "code",
      "execution_count": 23,
      "id": "3da74453-2dff-411d-a384-2966ae0c1f06",
      "metadata": {
        "colab": {
          "base_uri": "https://localhost:8080/",
          "height": 178
        },
        "id": "3da74453-2dff-411d-a384-2966ae0c1f06",
        "outputId": "635f54fe-565f-4540-d10f-c1ae31bb2d1e"
      },
      "outputs": [
        {
          "output_type": "execute_result",
          "data": {
            "text/plain": [
              "\"Human: Hello, nice to meet you!\\nAI: Hello! Nice to meet you too! I'm an AI trained to have conversations and provide information. How can I assist you today?\\nHuman: Tell me about the Einstein-Szilard Letter \\nAI: The Einstein-Szilard Letter, also known as the Einstein-Szilard Petition, was a letter written by physicist Albert Einstein and his colleague Leo Szilard. It was sent to President Franklin D. Roosevelt on August 2, 1939, during the early stages of World War II. The letter warned Roosevelt about the potential development of atomic weapons by Nazi Germany and urged the United States to begin its own research into nuclear technology.\\n\\nIn the letter, Einstein and Szilard explained the scientific principles behind nuclear fission and emphasized the destructive power that could be harnessed from it. They argued that the United States should take the lead in developing atomic weapons to ensure that they would not fall into the wrong hands.\\n\\nThis letter played a significant role in the establishment of the Manhattan Project, a top-secret research program that ultimately led to the development of the atomic bomb. It is considered a pivotal moment in the history of nuclear weapons and the beginning of the nuclear arms race between the United States and the Soviet Union.\\nHuman: Very Interesting.\\nAI: Yes, it was my pleasure as an AI to answer.\""
            ],
            "application/vnd.google.colaboratory.intrinsic+json": {
              "type": "string"
            }
          },
          "metadata": {},
          "execution_count": 23
        }
      ],
      "source": [
        "reload_conversation.memory.buffer"
      ]
    },
    {
      "cell_type": "code",
      "execution_count": null,
      "id": "1b872f82-2e8a-4c5e-b715-2c927ffdefdd",
      "metadata": {
        "id": "1b872f82-2e8a-4c5e-b715-2c927ffdefdd"
      },
      "outputs": [],
      "source": []
    }
  ],
  "metadata": {
    "kernelspec": {
      "display_name": "Python 3 (ipykernel)",
      "language": "python",
      "name": "python3"
    },
    "language_info": {
      "codemirror_mode": {
        "name": "ipython",
        "version": 3
      },
      "file_extension": ".py",
      "mimetype": "text/x-python",
      "name": "python",
      "nbconvert_exporter": "python",
      "pygments_lexer": "ipython3",
      "version": "3.9.12"
    },
    "colab": {
      "provenance": [],
      "include_colab_link": true
    }
  },
  "nbformat": 4,
  "nbformat_minor": 5
}