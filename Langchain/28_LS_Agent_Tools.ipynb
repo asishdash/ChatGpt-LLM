{
  "cells": [
    {
      "cell_type": "markdown",
      "metadata": {
        "id": "view-in-github",
        "colab_type": "text"
      },
      "source": [
        "<a href=\"https://colab.research.google.com/github/asishdash/ChatGpt-LLM/blob/main/Langchain/28_LS_Agent_Tools.ipynb\" target=\"_parent\"><img src=\"https://colab.research.google.com/assets/colab-badge.svg\" alt=\"Open In Colab\"/></a>"
      ]
    },
    {
      "cell_type": "markdown",
      "id": "728f1747-b8fc-4d31-96c2-047fc83c079d",
      "metadata": {
        "id": "728f1747-b8fc-4d31-96c2-047fc83c079d"
      },
      "source": [
        "# Agent Tools\n",
        "\n",
        "You can see a full list of integrations here: https://python.langchain.com/docs/modules/agents/tools/"
      ]
    },
    {
      "cell_type": "code",
      "execution_count": null,
      "id": "244f42d8-2349-446e-a1c2-ae4b8d3ee38f",
      "metadata": {
        "id": "244f42d8-2349-446e-a1c2-ae4b8d3ee38f"
      },
      "outputs": [],
      "source": [
        "from langchain.agents import load_tools\n",
        "from langchain.agents import initialize_agent\n",
        "from langchain.agents import AgentType\n",
        "from langchain.chat_models import ChatOpenAI"
      ]
    },
    {
      "cell_type": "code",
      "execution_count": null,
      "id": "9930d49e-f985-4a57-b3d5-697947182a46",
      "metadata": {
        "id": "9930d49e-f985-4a57-b3d5-697947182a46"
      },
      "outputs": [],
      "source": [
        "# !pip install google-search-results"
      ]
    },
    {
      "cell_type": "markdown",
      "id": "ca0491c2-e6a6-4961-98c4-1550ec1c11e9",
      "metadata": {
        "id": "ca0491c2-e6a6-4961-98c4-1550ec1c11e9"
      },
      "source": [
        "Certain tools require API Keys, in this example, we use SERPER API, create a new account and access your API KEY HERE:\n",
        "https://serpapi.com/users/welcome\n",
        "\n",
        "**NOTE: IN THE FUTURE SERPAPI MAY CHARGE FOR AN API KEY OR REQUIRE A CREDIT CARD**"
      ]
    },
    {
      "cell_type": "code",
      "execution_count": null,
      "id": "2c9adc64-07a1-492b-b046-b48ef208c680",
      "metadata": {
        "id": "2c9adc64-07a1-492b-b046-b48ef208c680"
      },
      "outputs": [],
      "source": [
        "import os\n",
        "# os.environ['SERPAPI_API_KEY'] = ##### https://serpapi.com/manage-api-key"
      ]
    },
    {
      "cell_type": "code",
      "execution_count": null,
      "id": "de49a069-fcf1-465b-8e20-9410680645e1",
      "metadata": {
        "id": "de49a069-fcf1-465b-8e20-9410680645e1"
      },
      "outputs": [],
      "source": [
        "llm = ChatOpenAI(temperature=0)"
      ]
    },
    {
      "cell_type": "code",
      "execution_count": null,
      "id": "85189426-f4bb-4018-adcc-14fbdb444d36",
      "metadata": {
        "id": "85189426-f4bb-4018-adcc-14fbdb444d36"
      },
      "outputs": [],
      "source": [
        "tools = load_tools([\"serpapi\",\"llm-math\"], llm=llm,)\n",
        "# Optionally pass in via serpapi_api_key=#####"
      ]
    },
    {
      "cell_type": "code",
      "execution_count": null,
      "id": "ffdfe861-3352-4e1c-8cbd-2c25e4d2f94d",
      "metadata": {
        "id": "ffdfe861-3352-4e1c-8cbd-2c25e4d2f94d",
        "outputId": "9a69c916-20e6-43c9-9f49-93c59fe44bcf"
      },
      "outputs": [
        {
          "data": {
            "text/plain": [
              "['CHAT_CONVERSATIONAL_REACT_DESCRIPTION',\n",
              " 'CHAT_ZERO_SHOT_REACT_DESCRIPTION',\n",
              " 'CONVERSATIONAL_REACT_DESCRIPTION',\n",
              " 'OPENAI_FUNCTIONS',\n",
              " 'OPENAI_MULTI_FUNCTIONS',\n",
              " 'REACT_DOCSTORE',\n",
              " 'SELF_ASK_WITH_SEARCH',\n",
              " 'STRUCTURED_CHAT_ZERO_SHOT_REACT_DESCRIPTION',\n",
              " 'ZERO_SHOT_REACT_DESCRIPTION',\n",
              " '__class__',\n",
              " '__doc__',\n",
              " '__members__',\n",
              " '__module__']"
            ]
          },
          "execution_count": 49,
          "metadata": {},
          "output_type": "execute_result"
        }
      ],
      "source": [
        "dir(AgentType)"
      ]
    },
    {
      "cell_type": "code",
      "execution_count": null,
      "id": "488d1642-e736-4fa5-9b08-3331c462b8b1",
      "metadata": {
        "id": "488d1642-e736-4fa5-9b08-3331c462b8b1"
      },
      "outputs": [],
      "source": [
        "agent = initialize_agent(tools,\n",
        "                         llm,\n",
        "                         agent=AgentType.ZERO_SHOT_REACT_DESCRIPTION,\n",
        "                         verbose=True)"
      ]
    },
    {
      "cell_type": "code",
      "execution_count": null,
      "id": "5eced15f-3852-4be0-909f-a7d6e8bc9c4b",
      "metadata": {
        "id": "5eced15f-3852-4be0-909f-a7d6e8bc9c4b",
        "outputId": "6c9178e2-e3e6-489f-e1b1-20dc7ea43ea6"
      },
      "outputs": [
        {
          "name": "stdout",
          "output_type": "stream",
          "text": [
            "\n",
            "\n",
            "\u001b[1m> Entering new  chain...\u001b[0m\n",
            "\u001b[32;1m\u001b[1;3mI can use the search tool to find the year Albert Einstein was born. Then I can use the calculator to multiply that year by 5.\n",
            "Action: Search\n",
            "Action Input: \"Albert Einstein birth year\"\u001b[0m\n",
            "Observation: \u001b[36;1m\u001b[1;3mMarch 14, 1879\u001b[0m\n",
            "Thought:\u001b[32;1m\u001b[1;3mNow I can use the calculator to multiply 1879 by 5.\n",
            "Action: Calculator\n",
            "Action Input: 1879 * 5\u001b[0m\n",
            "Observation: \u001b[33;1m\u001b[1;3mAnswer: 9395\u001b[0m\n",
            "Thought:\u001b[32;1m\u001b[1;3mI now know the final answer\n",
            "Final Answer: The year Albert Einstein was born is 1879. When multiplied by 5, the result is 9395.\u001b[0m\n",
            "\n",
            "\u001b[1m> Finished chain.\u001b[0m\n"
          ]
        },
        {
          "data": {
            "text/plain": [
              "'The year Albert Einstein was born is 1879. When multiplied by 5, the result is 9395.'"
            ]
          },
          "execution_count": 51,
          "metadata": {},
          "output_type": "execute_result"
        }
      ],
      "source": [
        "agent.run(\"What year was Albert Einstein born? What is that year number multiplied by 5?\")"
      ]
    },
    {
      "cell_type": "markdown",
      "id": "e6058dea-9fdb-43f6-b6d2-243b42d06b6b",
      "metadata": {
        "id": "e6058dea-9fdb-43f6-b6d2-243b42d06b6b"
      },
      "source": [
        "## Python Agent Tools Example"
      ]
    },
    {
      "cell_type": "code",
      "execution_count": null,
      "id": "5488a5fd-be93-4548-95bd-677d9a7cc199",
      "metadata": {
        "id": "5488a5fd-be93-4548-95bd-677d9a7cc199"
      },
      "outputs": [],
      "source": [
        "from langchain.tools.python.tool import PythonREPLTool\n",
        "from langchain.python import PythonREPL\n",
        "from langchain.agents.agent_toolkits import create_python_agent"
      ]
    },
    {
      "cell_type": "code",
      "execution_count": null,
      "id": "7a7a0229-b4ef-4e69-9fd1-0cb79c96287d",
      "metadata": {
        "id": "7a7a0229-b4ef-4e69-9fd1-0cb79c96287d"
      },
      "outputs": [],
      "source": [
        "llm = ChatOpenAI(temperature=0)"
      ]
    },
    {
      "cell_type": "code",
      "execution_count": null,
      "id": "bc3ccab6-4d03-4053-a57f-9a971d9d62fd",
      "metadata": {
        "id": "bc3ccab6-4d03-4053-a57f-9a971d9d62fd"
      },
      "outputs": [],
      "source": [
        "agent = create_python_agent(tool=PythonREPLTool(),\n",
        "                         llm=llm,\n",
        "                         agent=AgentType.ZERO_SHOT_REACT_DESCRIPTION,\n",
        "                         verbose=True)"
      ]
    },
    {
      "cell_type": "code",
      "execution_count": null,
      "id": "59a9efc1-f7f0-4fa8-9f85-b873f1e45451",
      "metadata": {
        "id": "59a9efc1-f7f0-4fa8-9f85-b873f1e45451"
      },
      "outputs": [],
      "source": [
        "python_list = [3,5,2,1,5,7,8,1,9,10]"
      ]
    },
    {
      "cell_type": "code",
      "execution_count": null,
      "id": "d202d117-bff2-4f37-8a9b-cc20e857e21a",
      "metadata": {
        "id": "d202d117-bff2-4f37-8a9b-cc20e857e21a",
        "outputId": "084bb7d6-222b-44ec-8296-fb0062b4af78"
      },
      "outputs": [
        {
          "name": "stdout",
          "output_type": "stream",
          "text": [
            "\n",
            "\n",
            "\u001b[1m> Entering new  chain...\u001b[0m\n",
            "\u001b[32;1m\u001b[1;3mI can use the `sorted()` function to sort the list.\n",
            "Action: Python_REPL\n",
            "Action Input: sorted([3, 5, 2, 1, 5, 7, 8, 1, 9, 10])\u001b[0m\n",
            "Observation: \u001b[36;1m\u001b[1;3m\u001b[0m\n",
            "Thought:\u001b[32;1m\u001b[1;3mThe list is now sorted in ascending order.\n",
            "Final Answer: [1, 1, 2, 3, 5, 5, 7, 8, 9, 10]\u001b[0m\n",
            "\n",
            "\u001b[1m> Finished chain.\u001b[0m\n"
          ]
        },
        {
          "data": {
            "text/plain": [
              "'[1, 1, 2, 3, 5, 5, 7, 8, 9, 10]'"
            ]
          },
          "execution_count": 74,
          "metadata": {},
          "output_type": "execute_result"
        }
      ],
      "source": [
        "agent.run(f'''Sort this Python list {python_list}''')"
      ]
    },
    {
      "cell_type": "code",
      "execution_count": null,
      "id": "e1bed3aa-7384-42ea-9e5f-bbd8c9dfc35a",
      "metadata": {
        "id": "e1bed3aa-7384-42ea-9e5f-bbd8c9dfc35a"
      },
      "outputs": [],
      "source": []
    }
  ],
  "metadata": {
    "kernelspec": {
      "display_name": "Python 3 (ipykernel)",
      "language": "python",
      "name": "python3"
    },
    "language_info": {
      "codemirror_mode": {
        "name": "ipython",
        "version": 3
      },
      "file_extension": ".py",
      "mimetype": "text/x-python",
      "name": "python",
      "nbconvert_exporter": "python",
      "pygments_lexer": "ipython3",
      "version": "3.9.12"
    },
    "colab": {
      "provenance": [],
      "include_colab_link": true
    }
  },
  "nbformat": 4,
  "nbformat_minor": 5
}