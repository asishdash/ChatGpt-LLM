{
  "cells": [
    {
      "cell_type": "markdown",
      "metadata": {
        "id": "view-in-github",
        "colab_type": "text"
      },
      "source": [
        "<a href=\"https://colab.research.google.com/github/asishdash/ChatGpt-LLM/blob/main/Langchain/27_LS_Agent_Basics.ipynb\" target=\"_parent\"><img src=\"https://colab.research.google.com/assets/colab-badge.svg\" alt=\"Open In Colab\"/></a>"
      ]
    },
    {
      "cell_type": "markdown",
      "id": "728f1747-b8fc-4d31-96c2-047fc83c079d",
      "metadata": {
        "id": "728f1747-b8fc-4d31-96c2-047fc83c079d"
      },
      "source": [
        "# Agent Basics"
      ]
    },
    {
      "cell_type": "code",
      "execution_count": null,
      "id": "244f42d8-2349-446e-a1c2-ae4b8d3ee38f",
      "metadata": {
        "id": "244f42d8-2349-446e-a1c2-ae4b8d3ee38f"
      },
      "outputs": [],
      "source": [
        "from langchain.agents import load_tools\n",
        "from langchain.agents import initialize_agent\n",
        "from langchain.agents import AgentType\n",
        "from langchain.llms import OpenAI"
      ]
    },
    {
      "cell_type": "code",
      "execution_count": null,
      "id": "de49a069-fcf1-465b-8e20-9410680645e1",
      "metadata": {
        "id": "de49a069-fcf1-465b-8e20-9410680645e1"
      },
      "outputs": [],
      "source": [
        "llm = OpenAI(temperature=0)"
      ]
    },
    {
      "cell_type": "code",
      "execution_count": null,
      "id": "85189426-f4bb-4018-adcc-14fbdb444d36",
      "metadata": {
        "id": "85189426-f4bb-4018-adcc-14fbdb444d36"
      },
      "outputs": [],
      "source": [
        "tools = load_tools([\"llm-math\"], llm=llm)"
      ]
    },
    {
      "cell_type": "code",
      "execution_count": null,
      "id": "ffdfe861-3352-4e1c-8cbd-2c25e4d2f94d",
      "metadata": {
        "id": "ffdfe861-3352-4e1c-8cbd-2c25e4d2f94d",
        "outputId": "e4167994-4046-4ab6-97d7-3eb4dcf7637e"
      },
      "outputs": [
        {
          "data": {
            "text/plain": [
              "['CHAT_CONVERSATIONAL_REACT_DESCRIPTION',\n",
              " 'CHAT_ZERO_SHOT_REACT_DESCRIPTION',\n",
              " 'CONVERSATIONAL_REACT_DESCRIPTION',\n",
              " 'OPENAI_FUNCTIONS',\n",
              " 'OPENAI_MULTI_FUNCTIONS',\n",
              " 'REACT_DOCSTORE',\n",
              " 'SELF_ASK_WITH_SEARCH',\n",
              " 'STRUCTURED_CHAT_ZERO_SHOT_REACT_DESCRIPTION',\n",
              " 'ZERO_SHOT_REACT_DESCRIPTION',\n",
              " '__class__',\n",
              " '__doc__',\n",
              " '__members__',\n",
              " '__module__']"
            ]
          },
          "execution_count": 5,
          "metadata": {},
          "output_type": "execute_result"
        }
      ],
      "source": [
        "dir(AgentType)"
      ]
    },
    {
      "cell_type": "code",
      "execution_count": null,
      "id": "488d1642-e736-4fa5-9b08-3331c462b8b1",
      "metadata": {
        "id": "488d1642-e736-4fa5-9b08-3331c462b8b1"
      },
      "outputs": [],
      "source": [
        "agent = initialize_agent(tools,\n",
        "                         llm,\n",
        "                         agent=AgentType.ZERO_SHOT_REACT_DESCRIPTION,\n",
        "                         verbose=True)"
      ]
    },
    {
      "cell_type": "code",
      "execution_count": null,
      "id": "5eced15f-3852-4be0-909f-a7d6e8bc9c4b",
      "metadata": {
        "id": "5eced15f-3852-4be0-909f-a7d6e8bc9c4b",
        "outputId": "99f6ba35-2857-4a70-aaf5-f36615d94a57"
      },
      "outputs": [
        {
          "name": "stdout",
          "output_type": "stream",
          "text": [
            "\n",
            "\n",
            "\u001b[1m> Entering new  chain...\u001b[0m\n",
            "\u001b[32;1m\u001b[1;3m I need to multiply two large numbers\n",
            "Action: Calculator\n",
            "Action Input: 134292 * 282393\u001b[0m\n",
            "Observation: \u001b[36;1m\u001b[1;3mAnswer: 37923120756\u001b[0m\n",
            "Thought:\u001b[32;1m\u001b[1;3m I now know the final answer\n",
            "Final Answer: 37923120756\u001b[0m\n",
            "\n",
            "\u001b[1m> Finished chain.\u001b[0m\n"
          ]
        },
        {
          "data": {
            "text/plain": [
              "'37923120756'"
            ]
          },
          "execution_count": 7,
          "metadata": {},
          "output_type": "execute_result"
        }
      ],
      "source": [
        "agent.run(\"What is 134292 times 282393?\")"
      ]
    },
    {
      "cell_type": "code",
      "execution_count": null,
      "id": "085d47fc-11f4-49cc-a148-31178c31a742",
      "metadata": {
        "id": "085d47fc-11f4-49cc-a148-31178c31a742",
        "outputId": "845de1e9-abe6-4180-8a9f-0dd57e7deeac"
      },
      "outputs": [
        {
          "data": {
            "text/plain": [
              "37923120756"
            ]
          },
          "execution_count": 8,
          "metadata": {},
          "output_type": "execute_result"
        }
      ],
      "source": [
        "134292 * 282393"
      ]
    },
    {
      "cell_type": "markdown",
      "id": "540f55b3-e1da-449b-905d-50ffa00c5b99",
      "metadata": {
        "id": "540f55b3-e1da-449b-905d-50ffa00c5b99"
      },
      "source": [
        "----"
      ]
    },
    {
      "cell_type": "code",
      "execution_count": null,
      "id": "054d984a-a393-480b-bdef-13400ce862e4",
      "metadata": {
        "id": "054d984a-a393-480b-bdef-13400ce862e4"
      },
      "outputs": [],
      "source": [
        "agent = initialize_agent(tools,\n",
        "                         llm,\n",
        "                         agent=AgentType.ZERO_SHOT_REACT_DESCRIPTION,\n",
        "                         verbose=False)"
      ]
    },
    {
      "cell_type": "code",
      "execution_count": null,
      "id": "140b7e67-9054-415c-80e6-6268bf4ba07e",
      "metadata": {
        "id": "140b7e67-9054-415c-80e6-6268bf4ba07e",
        "outputId": "0a01f508-c9f1-4de3-d1a0-2172a8c3ba76"
      },
      "outputs": [
        {
          "data": {
            "text/plain": [
              "'37923120756'"
            ]
          },
          "execution_count": 10,
          "metadata": {},
          "output_type": "execute_result"
        }
      ],
      "source": [
        "agent.run(\"What is 134292 times 282393?\")"
      ]
    },
    {
      "cell_type": "code",
      "execution_count": null,
      "id": "3a8685d1-b70a-427a-bbd6-967ff46d7752",
      "metadata": {
        "id": "3a8685d1-b70a-427a-bbd6-967ff46d7752"
      },
      "outputs": [],
      "source": []
    }
  ],
  "metadata": {
    "kernelspec": {
      "display_name": "Python 3 (ipykernel)",
      "language": "python",
      "name": "python3"
    },
    "language_info": {
      "codemirror_mode": {
        "name": "ipython",
        "version": 3
      },
      "file_extension": ".py",
      "mimetype": "text/x-python",
      "name": "python",
      "nbconvert_exporter": "python",
      "pygments_lexer": "ipython3",
      "version": "3.9.12"
    },
    "colab": {
      "provenance": [],
      "include_colab_link": true
    }
  },
  "nbformat": 4,
  "nbformat_minor": 5
}