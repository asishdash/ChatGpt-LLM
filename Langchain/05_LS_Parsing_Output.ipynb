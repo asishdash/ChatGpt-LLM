{
  "cells": [
    {
      "cell_type": "markdown",
      "metadata": {
        "id": "view-in-github",
        "colab_type": "text"
      },
      "source": [
        "<a href=\"https://colab.research.google.com/github/asishdash/ChatGpt-LLM/blob/main/Langchain/05_LS_Parsing_Output.ipynb\" target=\"_parent\"><img src=\"https://colab.research.google.com/assets/colab-badge.svg\" alt=\"Open In Colab\"/></a>"
      ]
    },
    {
      "cell_type": "markdown",
      "id": "e2128d1c-62d1-4681-abe1-754a1410e632",
      "metadata": {
        "id": "e2128d1c-62d1-4681-abe1-754a1410e632"
      },
      "source": [
        "# Parsing Output\n",
        "\n",
        "Let's set up a Chat Model:"
      ]
    },
    {
      "cell_type": "code",
      "source": [
        "!pip install openai\n",
        "!pip install langchain"
      ],
      "metadata": {
        "colab": {
          "base_uri": "https://localhost:8080/"
        },
        "id": "txfYnoKhwtC2",
        "outputId": "0414395d-8cbd-4125-98b0-54c909f5f289"
      },
      "id": "txfYnoKhwtC2",
      "execution_count": 1,
      "outputs": [
        {
          "output_type": "stream",
          "name": "stdout",
          "text": [
            "Collecting openai\n",
            "  Downloading openai-0.27.8-py3-none-any.whl (73 kB)\n",
            "\u001b[?25l     \u001b[90m━━━━━━━━━━━━━━━━━━━━━━━━━━━━━━━━━━━━━━━━\u001b[0m \u001b[32m0.0/73.6 kB\u001b[0m \u001b[31m?\u001b[0m eta \u001b[36m-:--:--\u001b[0m\r\u001b[2K     \u001b[91m━━━━━━━━━━━━━━━━━━━━━━━━━━━━━━━━━━━━━━\u001b[0m\u001b[91m╸\u001b[0m\u001b[90m━\u001b[0m \u001b[32m71.7/73.6 kB\u001b[0m \u001b[31m2.3 MB/s\u001b[0m eta \u001b[36m0:00:01\u001b[0m\r\u001b[2K     \u001b[90m━━━━━━━━━━━━━━━━━━━━━━━━━━━━━━━━━━━━━━━━\u001b[0m \u001b[32m73.6/73.6 kB\u001b[0m \u001b[31m1.8 MB/s\u001b[0m eta \u001b[36m0:00:00\u001b[0m\n",
            "\u001b[?25hRequirement already satisfied: requests>=2.20 in /usr/local/lib/python3.10/dist-packages (from openai) (2.31.0)\n",
            "Requirement already satisfied: tqdm in /usr/local/lib/python3.10/dist-packages (from openai) (4.66.0)\n",
            "Requirement already satisfied: aiohttp in /usr/local/lib/python3.10/dist-packages (from openai) (3.8.5)\n",
            "Requirement already satisfied: charset-normalizer<4,>=2 in /usr/local/lib/python3.10/dist-packages (from requests>=2.20->openai) (3.2.0)\n",
            "Requirement already satisfied: idna<4,>=2.5 in /usr/local/lib/python3.10/dist-packages (from requests>=2.20->openai) (3.4)\n",
            "Requirement already satisfied: urllib3<3,>=1.21.1 in /usr/local/lib/python3.10/dist-packages (from requests>=2.20->openai) (2.0.4)\n",
            "Requirement already satisfied: certifi>=2017.4.17 in /usr/local/lib/python3.10/dist-packages (from requests>=2.20->openai) (2023.7.22)\n",
            "Requirement already satisfied: attrs>=17.3.0 in /usr/local/lib/python3.10/dist-packages (from aiohttp->openai) (23.1.0)\n",
            "Requirement already satisfied: multidict<7.0,>=4.5 in /usr/local/lib/python3.10/dist-packages (from aiohttp->openai) (6.0.4)\n",
            "Requirement already satisfied: async-timeout<5.0,>=4.0.0a3 in /usr/local/lib/python3.10/dist-packages (from aiohttp->openai) (4.0.2)\n",
            "Requirement already satisfied: yarl<2.0,>=1.0 in /usr/local/lib/python3.10/dist-packages (from aiohttp->openai) (1.9.2)\n",
            "Requirement already satisfied: frozenlist>=1.1.1 in /usr/local/lib/python3.10/dist-packages (from aiohttp->openai) (1.4.0)\n",
            "Requirement already satisfied: aiosignal>=1.1.2 in /usr/local/lib/python3.10/dist-packages (from aiohttp->openai) (1.3.1)\n",
            "Installing collected packages: openai\n",
            "Successfully installed openai-0.27.8\n",
            "Collecting langchain\n",
            "  Downloading langchain-0.0.263-py3-none-any.whl (1.5 MB)\n",
            "\u001b[2K     \u001b[90m━━━━━━━━━━━━━━━━━━━━━━━━━━━━━━━━━━━━━━━━\u001b[0m \u001b[32m1.5/1.5 MB\u001b[0m \u001b[31m10.8 MB/s\u001b[0m eta \u001b[36m0:00:00\u001b[0m\n",
            "\u001b[?25hRequirement already satisfied: PyYAML>=5.3 in /usr/local/lib/python3.10/dist-packages (from langchain) (6.0.1)\n",
            "Requirement already satisfied: SQLAlchemy<3,>=1.4 in /usr/local/lib/python3.10/dist-packages (from langchain) (2.0.19)\n",
            "Requirement already satisfied: aiohttp<4.0.0,>=3.8.3 in /usr/local/lib/python3.10/dist-packages (from langchain) (3.8.5)\n",
            "Requirement already satisfied: async-timeout<5.0.0,>=4.0.0 in /usr/local/lib/python3.10/dist-packages (from langchain) (4.0.2)\n",
            "Collecting dataclasses-json<0.6.0,>=0.5.7 (from langchain)\n",
            "  Downloading dataclasses_json-0.5.14-py3-none-any.whl (26 kB)\n",
            "Collecting langsmith<0.1.0,>=0.0.11 (from langchain)\n",
            "  Downloading langsmith-0.0.22-py3-none-any.whl (32 kB)\n",
            "Requirement already satisfied: numexpr<3.0.0,>=2.8.4 in /usr/local/lib/python3.10/dist-packages (from langchain) (2.8.5)\n",
            "Requirement already satisfied: numpy<2,>=1 in /usr/local/lib/python3.10/dist-packages (from langchain) (1.23.5)\n",
            "Collecting openapi-schema-pydantic<2.0,>=1.2 (from langchain)\n",
            "  Downloading openapi_schema_pydantic-1.2.4-py3-none-any.whl (90 kB)\n",
            "\u001b[2K     \u001b[90m━━━━━━━━━━━━━━━━━━━━━━━━━━━━━━━━━━━━━━━━\u001b[0m \u001b[32m90.0/90.0 kB\u001b[0m \u001b[31m6.6 MB/s\u001b[0m eta \u001b[36m0:00:00\u001b[0m\n",
            "\u001b[?25hCollecting pydantic<2,>=1 (from langchain)\n",
            "  Downloading pydantic-1.10.12-cp310-cp310-manylinux_2_17_x86_64.manylinux2014_x86_64.whl (3.1 MB)\n",
            "\u001b[2K     \u001b[90m━━━━━━━━━━━━━━━━━━━━━━━━━━━━━━━━━━━━━━━━\u001b[0m \u001b[32m3.1/3.1 MB\u001b[0m \u001b[31m59.8 MB/s\u001b[0m eta \u001b[36m0:00:00\u001b[0m\n",
            "\u001b[?25hRequirement already satisfied: requests<3,>=2 in /usr/local/lib/python3.10/dist-packages (from langchain) (2.31.0)\n",
            "Requirement already satisfied: tenacity<9.0.0,>=8.1.0 in /usr/local/lib/python3.10/dist-packages (from langchain) (8.2.2)\n",
            "Requirement already satisfied: attrs>=17.3.0 in /usr/local/lib/python3.10/dist-packages (from aiohttp<4.0.0,>=3.8.3->langchain) (23.1.0)\n",
            "Requirement already satisfied: charset-normalizer<4.0,>=2.0 in /usr/local/lib/python3.10/dist-packages (from aiohttp<4.0.0,>=3.8.3->langchain) (3.2.0)\n",
            "Requirement already satisfied: multidict<7.0,>=4.5 in /usr/local/lib/python3.10/dist-packages (from aiohttp<4.0.0,>=3.8.3->langchain) (6.0.4)\n",
            "Requirement already satisfied: yarl<2.0,>=1.0 in /usr/local/lib/python3.10/dist-packages (from aiohttp<4.0.0,>=3.8.3->langchain) (1.9.2)\n",
            "Requirement already satisfied: frozenlist>=1.1.1 in /usr/local/lib/python3.10/dist-packages (from aiohttp<4.0.0,>=3.8.3->langchain) (1.4.0)\n",
            "Requirement already satisfied: aiosignal>=1.1.2 in /usr/local/lib/python3.10/dist-packages (from aiohttp<4.0.0,>=3.8.3->langchain) (1.3.1)\n",
            "Collecting marshmallow<4.0.0,>=3.18.0 (from dataclasses-json<0.6.0,>=0.5.7->langchain)\n",
            "  Downloading marshmallow-3.20.1-py3-none-any.whl (49 kB)\n",
            "\u001b[2K     \u001b[90m━━━━━━━━━━━━━━━━━━━━━━━━━━━━━━━━━━━━━━━━\u001b[0m \u001b[32m49.4/49.4 kB\u001b[0m \u001b[31m5.4 MB/s\u001b[0m eta \u001b[36m0:00:00\u001b[0m\n",
            "\u001b[?25hCollecting typing-inspect<1,>=0.4.0 (from dataclasses-json<0.6.0,>=0.5.7->langchain)\n",
            "  Downloading typing_inspect-0.9.0-py3-none-any.whl (8.8 kB)\n",
            "Requirement already satisfied: typing-extensions>=4.2.0 in /usr/local/lib/python3.10/dist-packages (from pydantic<2,>=1->langchain) (4.7.1)\n",
            "Requirement already satisfied: idna<4,>=2.5 in /usr/local/lib/python3.10/dist-packages (from requests<3,>=2->langchain) (3.4)\n",
            "Requirement already satisfied: urllib3<3,>=1.21.1 in /usr/local/lib/python3.10/dist-packages (from requests<3,>=2->langchain) (2.0.4)\n",
            "Requirement already satisfied: certifi>=2017.4.17 in /usr/local/lib/python3.10/dist-packages (from requests<3,>=2->langchain) (2023.7.22)\n",
            "Requirement already satisfied: greenlet!=0.4.17 in /usr/local/lib/python3.10/dist-packages (from SQLAlchemy<3,>=1.4->langchain) (2.0.2)\n",
            "Requirement already satisfied: packaging>=17.0 in /usr/local/lib/python3.10/dist-packages (from marshmallow<4.0.0,>=3.18.0->dataclasses-json<0.6.0,>=0.5.7->langchain) (23.1)\n",
            "Collecting mypy-extensions>=0.3.0 (from typing-inspect<1,>=0.4.0->dataclasses-json<0.6.0,>=0.5.7->langchain)\n",
            "  Downloading mypy_extensions-1.0.0-py3-none-any.whl (4.7 kB)\n",
            "Installing collected packages: pydantic, mypy-extensions, marshmallow, typing-inspect, openapi-schema-pydantic, langsmith, dataclasses-json, langchain\n",
            "  Attempting uninstall: pydantic\n",
            "    Found existing installation: pydantic 2.1.1\n",
            "    Uninstalling pydantic-2.1.1:\n",
            "      Successfully uninstalled pydantic-2.1.1\n",
            "Successfully installed dataclasses-json-0.5.14 langchain-0.0.263 langsmith-0.0.22 marshmallow-3.20.1 mypy-extensions-1.0.0 openapi-schema-pydantic-1.2.4 pydantic-1.10.12 typing-inspect-0.9.0\n"
          ]
        }
      ]
    },
    {
      "cell_type": "code",
      "source": [
        "import openai\n",
        "import os"
      ],
      "metadata": {
        "id": "36xDlqwGwtPY"
      },
      "id": "36xDlqwGwtPY",
      "execution_count": 2,
      "outputs": []
    },
    {
      "cell_type": "code",
      "source": [],
      "metadata": {
        "id": "8RHtYnzXwtXM"
      },
      "id": "8RHtYnzXwtXM",
      "execution_count": null,
      "outputs": []
    },
    {
      "cell_type": "code",
      "execution_count": 4,
      "id": "e2d81e4f-8739-4a19-abf9-7515304fc0a9",
      "metadata": {
        "id": "e2d81e4f-8739-4a19-abf9-7515304fc0a9"
      },
      "outputs": [],
      "source": [
        "from langchain.prompts import PromptTemplate, SystemMessagePromptTemplate,ChatPromptTemplate, HumanMessagePromptTemplate\n",
        "from langchain.llms import OpenAI\n",
        "from langchain.chat_models import ChatOpenAI\n",
        "#api_key = open(\"C://Users//Marcial//Desktop//desktop_openai.txt\").read()\n",
        "api_key =os.environ['key']\n",
        "model = ChatOpenAI(openai_api_key=api_key)"
      ]
    },
    {
      "cell_type": "markdown",
      "id": "7a7b37ab-4548-4a6f-a3da-77af6068ea3a",
      "metadata": {
        "tags": [],
        "id": "7a7b37ab-4548-4a6f-a3da-77af6068ea3a"
      },
      "source": [
        "## List Parsing"
      ]
    },
    {
      "cell_type": "code",
      "execution_count": 26,
      "id": "7ec14645-3d85-4cde-abf4-b3afc5248278",
      "metadata": {
        "id": "7ec14645-3d85-4cde-abf4-b3afc5248278"
      },
      "outputs": [],
      "source": [
        "from langchain.output_parsers import CommaSeparatedListOutputParser"
      ]
    },
    {
      "cell_type": "code",
      "execution_count": 6,
      "id": "4cca39c5-72a4-400e-b687-88dbe7a6a1eb",
      "metadata": {
        "id": "4cca39c5-72a4-400e-b687-88dbe7a6a1eb"
      },
      "outputs": [],
      "source": [
        "output_parser = CommaSeparatedListOutputParser()"
      ]
    },
    {
      "cell_type": "code",
      "execution_count": 7,
      "id": "1ad58ba7-8369-4a8e-92b1-557a931515a2",
      "metadata": {
        "id": "1ad58ba7-8369-4a8e-92b1-557a931515a2"
      },
      "outputs": [],
      "source": [
        "format_instructions = output_parser.get_format_instructions()"
      ]
    },
    {
      "cell_type": "code",
      "execution_count": 8,
      "id": "f841038a-9a42-4d2d-93d6-ba1831f9eaf3",
      "metadata": {
        "colab": {
          "base_uri": "https://localhost:8080/"
        },
        "id": "f841038a-9a42-4d2d-93d6-ba1831f9eaf3",
        "outputId": "a23ae025-47eb-4af1-fcda-255ece19948f"
      },
      "outputs": [
        {
          "output_type": "stream",
          "name": "stdout",
          "text": [
            "Your response should be a list of comma separated values, eg: `foo, bar, baz`\n"
          ]
        }
      ],
      "source": [
        "print(format_instructions)"
      ]
    },
    {
      "cell_type": "code",
      "execution_count": 9,
      "id": "545527d3-5556-4558-8835-8efdb76e8010",
      "metadata": {
        "colab": {
          "base_uri": "https://localhost:8080/"
        },
        "id": "545527d3-5556-4558-8835-8efdb76e8010",
        "outputId": "dfd3bf58-4f19-4eb6-ac77-ec4809de53f7"
      },
      "outputs": [
        {
          "output_type": "execute_result",
          "data": {
            "text/plain": [
              "['one', 'two', 'three']"
            ]
          },
          "metadata": {},
          "execution_count": 9
        }
      ],
      "source": [
        "reply = \"one, two, three\"\n",
        "output_parser.parse(\"one, two, three\")"
      ]
    },
    {
      "cell_type": "code",
      "execution_count": 10,
      "id": "19ad7894-8a81-46ce-ba3d-3aceb7d4f7b9",
      "metadata": {
        "id": "19ad7894-8a81-46ce-ba3d-3aceb7d4f7b9"
      },
      "outputs": [],
      "source": [
        "human_template = '{request} {format_instructions}'\n",
        "human_prompt = HumanMessagePromptTemplate.from_template(human_template)"
      ]
    },
    {
      "cell_type": "code",
      "execution_count": 11,
      "id": "a8b091bf-3931-42da-be46-f1bb9ba186ce",
      "metadata": {
        "colab": {
          "base_uri": "https://localhost:8080/"
        },
        "id": "a8b091bf-3931-42da-be46-f1bb9ba186ce",
        "outputId": "a98c3aaf-a860-46b9-b050-ce43781f86e4"
      },
      "outputs": [
        {
          "output_type": "execute_result",
          "data": {
            "text/plain": [
              "ChatPromptValue(messages=[HumanMessage(content='give me 5 characteristics of dogs Your response should be a list of comma separated values, eg: `foo, bar, baz`', additional_kwargs={}, example=False)])"
            ]
          },
          "metadata": {},
          "execution_count": 11
        }
      ],
      "source": [
        "chat_prompt = ChatPromptTemplate.from_messages([human_prompt])\n",
        "\n",
        "chat_prompt.format_prompt(request=\"give me 5 characteristics of dogs\",\n",
        "                   format_instructions = output_parser.get_format_instructions())"
      ]
    },
    {
      "cell_type": "code",
      "execution_count": 12,
      "id": "535031e5-61c2-4b6b-9d0e-36cf2f3d469d",
      "metadata": {
        "id": "535031e5-61c2-4b6b-9d0e-36cf2f3d469d"
      },
      "outputs": [],
      "source": [
        "request = chat_prompt.format_prompt(request=\"give me 5 characteristics of dogs\",\n",
        "                   format_instructions = output_parser.get_format_instructions()).to_messages()"
      ]
    },
    {
      "cell_type": "code",
      "execution_count": 13,
      "id": "71b52ed0-5178-4ca4-8317-e1ca590bf460",
      "metadata": {
        "id": "71b52ed0-5178-4ca4-8317-e1ca590bf460"
      },
      "outputs": [],
      "source": [
        "result = model(request)"
      ]
    },
    {
      "cell_type": "code",
      "execution_count": null,
      "id": "ae2b14fd-941e-4412-a916-04e3d1e886e0",
      "metadata": {
        "id": "ae2b14fd-941e-4412-a916-04e3d1e886e0",
        "outputId": "a96584aa-a8c4-4969-9ef9-e0aaa361e6e1"
      },
      "outputs": [
        {
          "data": {
            "text/plain": [
              "'loyal, friendly, playful, protective, trainable'"
            ]
          },
          "execution_count": 208,
          "metadata": {},
          "output_type": "execute_result"
        }
      ],
      "source": [
        "result.content"
      ]
    },
    {
      "cell_type": "code",
      "execution_count": 14,
      "id": "a35378ea-891a-4c47-b3eb-06aa9854f1d5",
      "metadata": {
        "colab": {
          "base_uri": "https://localhost:8080/"
        },
        "id": "a35378ea-891a-4c47-b3eb-06aa9854f1d5",
        "outputId": "10a73da5-ad4d-46c0-ef7f-cfe4deb7547c"
      },
      "outputs": [
        {
          "output_type": "execute_result",
          "data": {
            "text/plain": [
              "['loyal', 'friendly', 'playful', 'protective', 'trainable']"
            ]
          },
          "metadata": {},
          "execution_count": 14
        }
      ],
      "source": [
        "# Convert to desired output:\n",
        "output_parser.parse(result.content)"
      ]
    },
    {
      "cell_type": "markdown",
      "id": "f7dc1d92-0e0d-4703-82f4-47b1b816e967",
      "metadata": {
        "id": "f7dc1d92-0e0d-4703-82f4-47b1b816e967"
      },
      "source": [
        "## Datetime Parser"
      ]
    },
    {
      "cell_type": "code",
      "execution_count": 15,
      "id": "7181df9f-691f-4bd2-af8f-ebe4b2c6d78b",
      "metadata": {
        "id": "7181df9f-691f-4bd2-af8f-ebe4b2c6d78b"
      },
      "outputs": [],
      "source": [
        "from langchain.output_parsers import DatetimeOutputParser"
      ]
    },
    {
      "cell_type": "code",
      "execution_count": 16,
      "id": "2a7bf62c-c78d-4417-a56e-adf545649f8e",
      "metadata": {
        "id": "2a7bf62c-c78d-4417-a56e-adf545649f8e"
      },
      "outputs": [],
      "source": [
        "output_parser = DatetimeOutputParser()"
      ]
    },
    {
      "cell_type": "code",
      "execution_count": 17,
      "id": "02b918ea-62f0-457a-bdb1-e923b8d30ae3",
      "metadata": {
        "colab": {
          "base_uri": "https://localhost:8080/"
        },
        "id": "02b918ea-62f0-457a-bdb1-e923b8d30ae3",
        "outputId": "c039e27c-9ebc-4a7c-9077-13460ce76df1"
      },
      "outputs": [
        {
          "output_type": "stream",
          "name": "stdout",
          "text": [
            "Write a datetime string that matches the \n",
            "            following pattern: \"%Y-%m-%dT%H:%M:%S.%fZ\". Examples: 1990-08-20T12:21:15.957169Z, 1756-06-27T07:20:38.597328Z, 1166-04-05T21:58:17.254494Z\n"
          ]
        }
      ],
      "source": [
        "print(output_parser.get_format_instructions())"
      ]
    },
    {
      "cell_type": "code",
      "execution_count": 18,
      "id": "1d25e7ac-4d85-4cae-9401-a05c444be675",
      "metadata": {
        "id": "1d25e7ac-4d85-4cae-9401-a05c444be675"
      },
      "outputs": [],
      "source": [
        "template_text = \"{request}\\n{format_instructions}\"\n",
        "human_prompt=HumanMessagePromptTemplate.from_template(template_text)"
      ]
    },
    {
      "cell_type": "code",
      "execution_count": 19,
      "id": "6f17e9dd-d5bf-4f60-8d66-845d27794cb2",
      "metadata": {
        "id": "6f17e9dd-d5bf-4f60-8d66-845d27794cb2"
      },
      "outputs": [],
      "source": [
        "chat_prompt = ChatPromptTemplate.from_messages([human_prompt])"
      ]
    },
    {
      "cell_type": "code",
      "execution_count": 20,
      "id": "d6d5d104-1ccf-484a-9d65-81b89f066ca2",
      "metadata": {
        "colab": {
          "base_uri": "https://localhost:8080/"
        },
        "id": "d6d5d104-1ccf-484a-9d65-81b89f066ca2",
        "outputId": "3168ca5b-8f8e-46b4-dc54-3f17b6a789ff"
      },
      "outputs": [
        {
          "output_type": "stream",
          "name": "stdout",
          "text": [
            "Human: When was the 13th Amendment ratified in the US?\n",
            "Write a datetime string that matches the \n",
            "            following pattern: \"%Y-%m-%dT%H:%M:%S.%fZ\". Examples: 1825-05-19T22:23:53.103584Z, 1974-12-30T00:37:55.083908Z, 1012-05-11T16:35:45.641132Z\n"
          ]
        }
      ],
      "source": [
        "print(chat_prompt.format(request=\"When was the 13th Amendment ratified in the US?\",\n",
        "                   format_instructions=output_parser.get_format_instructions()\n",
        "                   ))"
      ]
    },
    {
      "cell_type": "code",
      "execution_count": 21,
      "id": "2fb47b36-22f9-4255-8f7d-1fe5f3e4fd69",
      "metadata": {
        "id": "2fb47b36-22f9-4255-8f7d-1fe5f3e4fd69"
      },
      "outputs": [],
      "source": [
        "request = chat_prompt.format_prompt(request=\"What date was the 13th Amendment ratified in the US?\",\n",
        "                   format_instructions=output_parser.get_format_instructions()\n",
        "                   ).to_messages()"
      ]
    },
    {
      "cell_type": "code",
      "execution_count": 22,
      "id": "81091194-52ea-4c85-b899-48146d434c53",
      "metadata": {
        "id": "81091194-52ea-4c85-b899-48146d434c53"
      },
      "outputs": [],
      "source": [
        "result = model(request,temperature=0)"
      ]
    },
    {
      "cell_type": "code",
      "execution_count": 23,
      "id": "9a5227a5-cd36-4f8f-b93b-8281ddbfe7ac",
      "metadata": {
        "colab": {
          "base_uri": "https://localhost:8080/",
          "height": 35
        },
        "id": "9a5227a5-cd36-4f8f-b93b-8281ddbfe7ac",
        "outputId": "0101e186-d845-462c-d867-467432b58dfa"
      },
      "outputs": [
        {
          "output_type": "execute_result",
          "data": {
            "text/plain": [
              "'The 13th Amendment was ratified in the US on December 6, 1865.\\n\\nThe datetime string that matches the given pattern is: \"1865-12-06T00:00:00.000000Z\"'"
            ],
            "application/vnd.google.colaboratory.intrinsic+json": {
              "type": "string"
            }
          },
          "metadata": {},
          "execution_count": 23
        }
      ],
      "source": [
        "# Careful with this, it sometimes will include extra information!\n",
        "result.content"
      ]
    },
    {
      "cell_type": "code",
      "execution_count": 24,
      "id": "d48d3df3-325c-43b3-9b58-8c5396b9121e",
      "metadata": {
        "colab": {
          "base_uri": "https://localhost:8080/",
          "height": 35
        },
        "id": "d48d3df3-325c-43b3-9b58-8c5396b9121e",
        "outputId": "b10a8ad4-97f2-47ca-a3d0-597529d91639"
      },
      "outputs": [
        {
          "output_type": "execute_result",
          "data": {
            "text/plain": [
              "'The 13th Amendment was ratified in the US on December 6, 1865.\\n\\nThe datetime string that matches the given pattern is: \"1865-12-06T00:00:00.000000Z\"'"
            ],
            "application/vnd.google.colaboratory.intrinsic+json": {
              "type": "string"
            }
          },
          "metadata": {},
          "execution_count": 24
        }
      ],
      "source": [
        "result.content"
      ]
    },
    {
      "cell_type": "code",
      "execution_count": 25,
      "id": "8d27d13a-0ee7-4cd7-adb7-67f29e519b10",
      "metadata": {
        "colab": {
          "base_uri": "https://localhost:8080/",
          "height": 506
        },
        "id": "8d27d13a-0ee7-4cd7-adb7-67f29e519b10",
        "outputId": "5db0dfff-ec63-4526-af3d-05268e81ce3a"
      },
      "outputs": [
        {
          "output_type": "error",
          "ename": "OutputParserException",
          "evalue": "ignored",
          "traceback": [
            "\u001b[0;31m---------------------------------------------------------------------------\u001b[0m",
            "\u001b[0;31mValueError\u001b[0m                                Traceback (most recent call last)",
            "\u001b[0;32m/usr/local/lib/python3.10/dist-packages/langchain/output_parsers/datetime.py\u001b[0m in \u001b[0;36mparse\u001b[0;34m(self, response)\u001b[0m\n\u001b[1;32m     44\u001b[0m         \u001b[0;32mtry\u001b[0m\u001b[0;34m:\u001b[0m\u001b[0;34m\u001b[0m\u001b[0;34m\u001b[0m\u001b[0m\n\u001b[0;32m---> 45\u001b[0;31m             \u001b[0;32mreturn\u001b[0m \u001b[0mdatetime\u001b[0m\u001b[0;34m.\u001b[0m\u001b[0mstrptime\u001b[0m\u001b[0;34m(\u001b[0m\u001b[0mresponse\u001b[0m\u001b[0;34m.\u001b[0m\u001b[0mstrip\u001b[0m\u001b[0;34m(\u001b[0m\u001b[0;34m)\u001b[0m\u001b[0;34m,\u001b[0m \u001b[0mself\u001b[0m\u001b[0;34m.\u001b[0m\u001b[0mformat\u001b[0m\u001b[0;34m)\u001b[0m\u001b[0;34m\u001b[0m\u001b[0;34m\u001b[0m\u001b[0m\n\u001b[0m\u001b[1;32m     46\u001b[0m         \u001b[0;32mexcept\u001b[0m \u001b[0mValueError\u001b[0m \u001b[0;32mas\u001b[0m \u001b[0me\u001b[0m\u001b[0;34m:\u001b[0m\u001b[0;34m\u001b[0m\u001b[0;34m\u001b[0m\u001b[0m\n",
            "\u001b[0;32m/usr/lib/python3.10/_strptime.py\u001b[0m in \u001b[0;36m_strptime_datetime\u001b[0;34m(cls, data_string, format)\u001b[0m\n\u001b[1;32m    567\u001b[0m     format string.\"\"\"\n\u001b[0;32m--> 568\u001b[0;31m     \u001b[0mtt\u001b[0m\u001b[0;34m,\u001b[0m \u001b[0mfraction\u001b[0m\u001b[0;34m,\u001b[0m \u001b[0mgmtoff_fraction\u001b[0m \u001b[0;34m=\u001b[0m \u001b[0m_strptime\u001b[0m\u001b[0;34m(\u001b[0m\u001b[0mdata_string\u001b[0m\u001b[0;34m,\u001b[0m \u001b[0mformat\u001b[0m\u001b[0;34m)\u001b[0m\u001b[0;34m\u001b[0m\u001b[0;34m\u001b[0m\u001b[0m\n\u001b[0m\u001b[1;32m    569\u001b[0m     \u001b[0mtzname\u001b[0m\u001b[0;34m,\u001b[0m \u001b[0mgmtoff\u001b[0m \u001b[0;34m=\u001b[0m \u001b[0mtt\u001b[0m\u001b[0;34m[\u001b[0m\u001b[0;34m-\u001b[0m\u001b[0;36m2\u001b[0m\u001b[0;34m:\u001b[0m\u001b[0;34m]\u001b[0m\u001b[0;34m\u001b[0m\u001b[0;34m\u001b[0m\u001b[0m\n",
            "\u001b[0;32m/usr/lib/python3.10/_strptime.py\u001b[0m in \u001b[0;36m_strptime\u001b[0;34m(data_string, format)\u001b[0m\n\u001b[1;32m    348\u001b[0m     \u001b[0;32mif\u001b[0m \u001b[0;32mnot\u001b[0m \u001b[0mfound\u001b[0m\u001b[0;34m:\u001b[0m\u001b[0;34m\u001b[0m\u001b[0;34m\u001b[0m\u001b[0m\n\u001b[0;32m--> 349\u001b[0;31m         raise ValueError(\"time data %r does not match format %r\" %\n\u001b[0m\u001b[1;32m    350\u001b[0m                          (data_string, format))\n",
            "\u001b[0;31mValueError\u001b[0m: time data 'The 13th Amendment was ratified in the US on December 6, 1865.\\n\\nThe datetime string that matches the given pattern is: \"1865-12-06T00:00:00.000000Z\"' does not match format '%Y-%m-%dT%H:%M:%S.%fZ'",
            "\nThe above exception was the direct cause of the following exception:\n",
            "\u001b[0;31mOutputParserException\u001b[0m                     Traceback (most recent call last)",
            "\u001b[0;32m<ipython-input-25-cbe1134b9dc6>\u001b[0m in \u001b[0;36m<cell line: 1>\u001b[0;34m()\u001b[0m\n\u001b[0;32m----> 1\u001b[0;31m \u001b[0moutput_parser\u001b[0m\u001b[0;34m.\u001b[0m\u001b[0mparse\u001b[0m\u001b[0;34m(\u001b[0m\u001b[0mresult\u001b[0m\u001b[0;34m.\u001b[0m\u001b[0mcontent\u001b[0m\u001b[0;34m)\u001b[0m\u001b[0;34m\u001b[0m\u001b[0;34m\u001b[0m\u001b[0m\n\u001b[0m",
            "\u001b[0;32m/usr/local/lib/python3.10/dist-packages/langchain/output_parsers/datetime.py\u001b[0m in \u001b[0;36mparse\u001b[0;34m(self, response)\u001b[0m\n\u001b[1;32m     45\u001b[0m             \u001b[0;32mreturn\u001b[0m \u001b[0mdatetime\u001b[0m\u001b[0;34m.\u001b[0m\u001b[0mstrptime\u001b[0m\u001b[0;34m(\u001b[0m\u001b[0mresponse\u001b[0m\u001b[0;34m.\u001b[0m\u001b[0mstrip\u001b[0m\u001b[0;34m(\u001b[0m\u001b[0;34m)\u001b[0m\u001b[0;34m,\u001b[0m \u001b[0mself\u001b[0m\u001b[0;34m.\u001b[0m\u001b[0mformat\u001b[0m\u001b[0;34m)\u001b[0m\u001b[0;34m\u001b[0m\u001b[0;34m\u001b[0m\u001b[0m\n\u001b[1;32m     46\u001b[0m         \u001b[0;32mexcept\u001b[0m \u001b[0mValueError\u001b[0m \u001b[0;32mas\u001b[0m \u001b[0me\u001b[0m\u001b[0;34m:\u001b[0m\u001b[0;34m\u001b[0m\u001b[0;34m\u001b[0m\u001b[0m\n\u001b[0;32m---> 47\u001b[0;31m             raise OutputParserException(\n\u001b[0m\u001b[1;32m     48\u001b[0m                 \u001b[0;34mf\"Could not parse datetime string: {response}\"\u001b[0m\u001b[0;34m\u001b[0m\u001b[0;34m\u001b[0m\u001b[0m\n\u001b[1;32m     49\u001b[0m             ) from e\n",
            "\u001b[0;31mOutputParserException\u001b[0m: Could not parse datetime string: The 13th Amendment was ratified in the US on December 6, 1865.\n\nThe datetime string that matches the given pattern is: \"1865-12-06T00:00:00.000000Z\""
          ]
        }
      ],
      "source": [
        "output_parser.parse(result.content)"
      ]
    },
    {
      "cell_type": "markdown",
      "id": "f8ee5cd6-931d-4b06-963a-19d5e69a1f2b",
      "metadata": {
        "id": "f8ee5cd6-931d-4b06-963a-19d5e69a1f2b"
      },
      "source": [
        "---\n",
        "\n",
        "# Methods to Fix Parsing Issues\n",
        "\n",
        "## Auto-Fix Parser"
      ]
    },
    {
      "cell_type": "code",
      "execution_count": null,
      "id": "43dcc805-e48f-488f-81fb-1ae25c0482be",
      "metadata": {
        "id": "43dcc805-e48f-488f-81fb-1ae25c0482be"
      },
      "outputs": [],
      "source": [
        "from langchain.output_parsers import OutputFixingParser\n",
        "\n",
        "output_parser = DatetimeOutputParser()\n",
        "\n",
        "misformatted = result.content"
      ]
    },
    {
      "cell_type": "code",
      "execution_count": null,
      "id": "d4f9ce62-33a0-4aac-a810-cb286051857e",
      "metadata": {
        "id": "d4f9ce62-33a0-4aac-a810-cb286051857e",
        "outputId": "be183f45-f122-407d-ca09-c772b59b25ce"
      },
      "outputs": [
        {
          "data": {
            "text/plain": [
              "'The 13th Amendment was ratified in the US on December 6, 1865.\\n\\nThe datetime string that matches the given pattern is: \"1865-12-06T00:00:00.000000Z\"'"
            ]
          },
          "execution_count": 194,
          "metadata": {},
          "output_type": "execute_result"
        }
      ],
      "source": [
        "misformatted"
      ]
    },
    {
      "cell_type": "code",
      "execution_count": null,
      "id": "d6e43db4-2e75-4902-95e9-07a82688ce8d",
      "metadata": {
        "id": "d6e43db4-2e75-4902-95e9-07a82688ce8d"
      },
      "outputs": [],
      "source": [
        "new_parser = OutputFixingParser.from_llm(parser=output_parser, llm=model)"
      ]
    },
    {
      "cell_type": "code",
      "execution_count": null,
      "id": "9b91f188-cca3-4659-8e09-9defac58afd9",
      "metadata": {
        "id": "9b91f188-cca3-4659-8e09-9defac58afd9",
        "outputId": "736825d9-a9ba-4668-bc12-966e216fddd5"
      },
      "outputs": [
        {
          "data": {
            "text/plain": [
              "datetime.datetime(1865, 12, 6, 0, 0)"
            ]
          },
          "execution_count": 196,
          "metadata": {},
          "output_type": "execute_result"
        }
      ],
      "source": [
        "new_parser.parse(misformatted)"
      ]
    },
    {
      "cell_type": "markdown",
      "id": "b1e590db-90dc-47db-8341-44491916fc90",
      "metadata": {
        "id": "b1e590db-90dc-47db-8341-44491916fc90"
      },
      "source": [
        "____\n",
        "### Fixing via System Prompt:"
      ]
    },
    {
      "cell_type": "code",
      "execution_count": null,
      "id": "d7714f2d-1063-44bc-9ad0-ab1f578a4143",
      "metadata": {
        "id": "d7714f2d-1063-44bc-9ad0-ab1f578a4143"
      },
      "outputs": [],
      "source": [
        "system_prompt = SystemMessagePromptTemplate.from_template(\"You always reply to questions only in datetime patterns.\")\n",
        "template_text = \"{request}\\n{format_instructions}\"\n",
        "human_prompt=HumanMessagePromptTemplate.from_template(template_text)"
      ]
    },
    {
      "cell_type": "code",
      "execution_count": null,
      "id": "9a2ec129-ab30-41c1-94e5-988c4e179ef3",
      "metadata": {
        "id": "9a2ec129-ab30-41c1-94e5-988c4e179ef3"
      },
      "outputs": [],
      "source": [
        "chat_prompt = ChatPromptTemplate.from_messages([system_prompt,human_prompt])"
      ]
    },
    {
      "cell_type": "code",
      "execution_count": null,
      "id": "7e9f115d-78aa-4e48-9b5d-9ac4914b84bd",
      "metadata": {
        "id": "7e9f115d-78aa-4e48-9b5d-9ac4914b84bd",
        "outputId": "0aa896a7-b0c3-492c-f920-852b32b5b8fe"
      },
      "outputs": [
        {
          "name": "stdout",
          "output_type": "stream",
          "text": [
            "System: You always reply to questions only in datetime patterns.\n",
            "Human: When was the 13th Amendment ratified in the US?\n",
            "Write a datetime string that matches the \n",
            "            following pattern: \"%Y-%m-%dT%H:%M:%S.%fZ\". Examples: 1796-02-26T04:04:10.673088Z, 0754-04-24T13:43:26.442719Z, 0382-07-21T05:34:03.561213Z\n"
          ]
        }
      ],
      "source": [
        "print(chat_prompt.format(request=\"When was the 13th Amendment ratified in the US?\",\n",
        "                   format_instructions=output_parser.get_format_instructions()\n",
        "                   ))"
      ]
    },
    {
      "cell_type": "code",
      "execution_count": null,
      "id": "cddc6803-dbe4-4064-8002-bdd46ff8d418",
      "metadata": {
        "id": "cddc6803-dbe4-4064-8002-bdd46ff8d418"
      },
      "outputs": [],
      "source": [
        "request = chat_prompt.format_prompt(request=\"What date was the 13th Amendment ratified in the US?\",\n",
        "                   format_instructions=output_parser.get_format_instructions()\n",
        "                   ).to_messages()"
      ]
    },
    {
      "cell_type": "code",
      "execution_count": null,
      "id": "20db5dd9-eb1b-4a6c-967e-81bed43a868d",
      "metadata": {
        "id": "20db5dd9-eb1b-4a6c-967e-81bed43a868d"
      },
      "outputs": [],
      "source": [
        "result = model(request,temperature=0)"
      ]
    },
    {
      "cell_type": "code",
      "execution_count": null,
      "id": "b56baddd-e8ac-45a7-ab25-bc4cd4cbc967",
      "metadata": {
        "id": "b56baddd-e8ac-45a7-ab25-bc4cd4cbc967",
        "outputId": "d589848c-c979-4614-fd59-1b96719b9f11"
      },
      "outputs": [
        {
          "data": {
            "text/plain": [
              "'1865-12-06T00:00:00.000000Z'"
            ]
          },
          "execution_count": 141,
          "metadata": {},
          "output_type": "execute_result"
        }
      ],
      "source": [
        "result.content"
      ]
    },
    {
      "cell_type": "code",
      "execution_count": null,
      "id": "5849a726-e8dd-432f-93d0-078c804ba407",
      "metadata": {
        "id": "5849a726-e8dd-432f-93d0-078c804ba407",
        "outputId": "86dda4d7-1578-444c-fcfb-179d3a180d5c"
      },
      "outputs": [
        {
          "data": {
            "text/plain": [
              "datetime.datetime(1865, 12, 6, 0, 0)"
            ]
          },
          "execution_count": 143,
          "metadata": {},
          "output_type": "execute_result"
        }
      ],
      "source": [
        "output_parser.parse(result.content)"
      ]
    },
    {
      "cell_type": "markdown",
      "id": "62292e0b-277a-4fbc-9ac3-2bffaf9a4614",
      "metadata": {
        "id": "62292e0b-277a-4fbc-9ac3-2bffaf9a4614"
      },
      "source": [
        "Be careful! This could technically be construed as wrong? The full details from Wikipedia:\n",
        "\n",
        "    27th state to ratify was Georgia: December 6, 1865\n",
        "\n",
        "    Having been ratified by the legislatures of three-fourths of the states (27 of the 36 states, including those that had been in rebellion), Secretary of State Seward, on December 18, 1865, certified that the Thirteenth Amendment had become valid, to all intents and purposes, as a part of the Constitution.\n",
        "\n",
        "You also have the issue of states leaving the union, which complicates what a full ratification means at that time. It kind of depends what is meant by the word \"ratified\"!"
      ]
    },
    {
      "cell_type": "markdown",
      "id": "e874ded7-a158-425e-b946-474845a12b72",
      "metadata": {
        "id": "e874ded7-a158-425e-b946-474845a12b72"
      },
      "source": [
        "## Pydantic JSON Parser\n",
        "You should also be aware of OpenAI's own JSON offerings (which are still quite new at this time!): https://platform.openai.com/docs/guides/gpt/function-calling\n"
      ]
    },
    {
      "cell_type": "code",
      "execution_count": null,
      "id": "b0646d6f-7370-4e82-8983-ef87585e423d",
      "metadata": {
        "id": "b0646d6f-7370-4e82-8983-ef87585e423d"
      },
      "outputs": [],
      "source": [
        "#pip install pydantic"
      ]
    },
    {
      "cell_type": "code",
      "execution_count": null,
      "id": "279dff90-27f2-424a-8683-fe030f2827df",
      "metadata": {
        "id": "279dff90-27f2-424a-8683-fe030f2827df"
      },
      "outputs": [],
      "source": [
        "from langchain.output_parsers import PydanticOutputParser"
      ]
    },
    {
      "cell_type": "code",
      "execution_count": null,
      "id": "fc5f5225-633a-4c71-a6b4-c46b376c9207",
      "metadata": {
        "id": "fc5f5225-633a-4c71-a6b4-c46b376c9207"
      },
      "outputs": [],
      "source": [
        "from pydantic import BaseModel, Field"
      ]
    },
    {
      "cell_type": "code",
      "execution_count": null,
      "id": "2685a18e-cf09-4a92-8380-81feda164740",
      "metadata": {
        "id": "2685a18e-cf09-4a92-8380-81feda164740"
      },
      "outputs": [],
      "source": [
        "class Scientist(BaseModel):\n",
        "\n",
        "    name: str = Field(description=\"Name of a Scientist\")\n",
        "    discoveries: list = Field(description=\"Python list of discoveries\")"
      ]
    },
    {
      "cell_type": "code",
      "execution_count": null,
      "id": "6036b3b0-38fe-40b7-b51d-91b3238a8ed5",
      "metadata": {
        "id": "6036b3b0-38fe-40b7-b51d-91b3238a8ed5"
      },
      "outputs": [],
      "source": [
        "query = 'Name a famous scientist and a list of their discoveries'"
      ]
    },
    {
      "cell_type": "code",
      "execution_count": null,
      "id": "f11cfdad-1234-41b1-9f54-3620d7bd1b96",
      "metadata": {
        "id": "f11cfdad-1234-41b1-9f54-3620d7bd1b96"
      },
      "outputs": [],
      "source": [
        "parser = PydanticOutputParser(pydantic_object=Scientist)"
      ]
    },
    {
      "cell_type": "code",
      "execution_count": null,
      "id": "8cf18594-2ca1-4f3c-bbfc-a8e072f6a78c",
      "metadata": {
        "id": "8cf18594-2ca1-4f3c-bbfc-a8e072f6a78c",
        "outputId": "7bf8a8f4-44d0-48f7-ba39-72529657c330"
      },
      "outputs": [
        {
          "name": "stdout",
          "output_type": "stream",
          "text": [
            "The output should be formatted as a JSON instance that conforms to the JSON schema below.\n",
            "\n",
            "As an example, for the schema {\"properties\": {\"foo\": {\"title\": \"Foo\", \"description\": \"a list of strings\", \"type\": \"array\", \"items\": {\"type\": \"string\"}}}, \"required\": [\"foo\"]}}\n",
            "the object {\"foo\": [\"bar\", \"baz\"]} is a well-formatted instance of the schema. The object {\"properties\": {\"foo\": [\"bar\", \"baz\"]}} is not well-formatted.\n",
            "\n",
            "Here is the output schema:\n",
            "```\n",
            "{\"properties\": {\"name\": {\"title\": \"Name\", \"description\": \"Name of a Scientist\", \"type\": \"string\"}, \"discoveries\": {\"title\": \"Discoveries\", \"description\": \"Python list of discoveries\", \"type\": \"array\", \"items\": {}}}, \"required\": [\"name\", \"discoveries\"]}\n",
            "```\n"
          ]
        }
      ],
      "source": [
        "print(parser.get_format_instructions())"
      ]
    },
    {
      "cell_type": "code",
      "execution_count": null,
      "id": "07770971-eafe-479f-b632-9dc33759e0da",
      "metadata": {
        "id": "07770971-eafe-479f-b632-9dc33759e0da",
        "outputId": "d0232ba9-18dd-4103-a1c8-9f6f3373c134"
      },
      "outputs": [
        {
          "data": {
            "text/plain": [
              "Scientist(name='Albert Einstein', discoveries=['Theory of Relativity', 'Photoelectric Effect', 'Brownian Motion'])"
            ]
          },
          "execution_count": 75,
          "metadata": {},
          "output_type": "execute_result"
        }
      ],
      "source": [
        "prompt = PromptTemplate(\n",
        "    template=\"Answer the user query.\\n{format_instructions}\\n{query}\\n\",\n",
        "    input_variables=[\"query\"],\n",
        "    partial_variables={\"format_instructions\": parser.get_format_instructions()},\n",
        ")\n",
        "\n",
        "_input = prompt.format_prompt(query=\"Tell me about a famous scientist\")\n",
        "\n",
        "output = model(_input.to_string())\n",
        "\n",
        "parser.parse(output)"
      ]
    },
    {
      "cell_type": "markdown",
      "id": "2663c7ac-1321-44ac-aa87-ffdad6f7ea72",
      "metadata": {
        "id": "2663c7ac-1321-44ac-aa87-ffdad6f7ea72"
      },
      "source": []
    }
  ],
  "metadata": {
    "kernelspec": {
      "display_name": "Python 3 (ipykernel)",
      "language": "python",
      "name": "python3"
    },
    "language_info": {
      "codemirror_mode": {
        "name": "ipython",
        "version": 3
      },
      "file_extension": ".py",
      "mimetype": "text/x-python",
      "name": "python",
      "nbconvert_exporter": "python",
      "pygments_lexer": "ipython3",
      "version": "3.9.12"
    },
    "colab": {
      "provenance": [],
      "include_colab_link": true
    }
  },
  "nbformat": 4,
  "nbformat_minor": 5
}