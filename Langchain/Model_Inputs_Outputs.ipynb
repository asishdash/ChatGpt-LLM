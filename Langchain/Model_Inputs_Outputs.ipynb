{
  "cells": [
    {
      "cell_type": "markdown",
      "metadata": {
        "id": "view-in-github",
        "colab_type": "text"
      },
      "source": [
        "<a href=\"https://colab.research.google.com/github/asishdash/ChatGpt-LLM/blob/main/Langchain/Model_Inputs_Outputs.ipynb\" target=\"_parent\"><img src=\"https://colab.research.google.com/assets/colab-badge.svg\" alt=\"Open In Colab\"/></a>"
      ]
    },
    {
      "cell_type": "markdown",
      "id": "cf5ff2a8-fcc1-4ef6-a91b-a56f29a0fc2c",
      "metadata": {
        "id": "cf5ff2a8-fcc1-4ef6-a91b-a56f29a0fc2c"
      },
      "source": [
        "# Model IO Exercise Solution\n",
        "\n",
        "The purpose of this exercise is to test your understanding of building out Model IO systems. You will also hopefully notice the need to chain responses together, which we will cover later in this course!\n",
        "\n",
        "Watch the video for a full overview on minimum outputs this class should be capable of, but feel free to expand on this project, or to just treat it as a code-along!"
      ]
    },
    {
      "cell_type": "code",
      "source": [
        "!pip install openai\n",
        "!pip install langchain"
      ],
      "metadata": {
        "colab": {
          "base_uri": "https://localhost:8080/"
        },
        "id": "Drl46ZYX8D-c",
        "outputId": "b07ccd97-989a-4a32-9e9f-b7ae5c5a7657"
      },
      "id": "Drl46ZYX8D-c",
      "execution_count": 2,
      "outputs": [
        {
          "output_type": "stream",
          "name": "stdout",
          "text": [
            "Collecting openai\n",
            "  Downloading openai-0.27.8-py3-none-any.whl (73 kB)\n",
            "\u001b[?25l     \u001b[90m━━━━━━━━━━━━━━━━━━━━━━━━━━━━━━━━━━━━━━━━\u001b[0m \u001b[32m0.0/73.6 kB\u001b[0m \u001b[31m?\u001b[0m eta \u001b[36m-:--:--\u001b[0m\r\u001b[2K     \u001b[90m━━━━━━━━━━━━━━━━━━━━━━━━━━━━━━━━━━━━━━━━\u001b[0m \u001b[32m73.6/73.6 kB\u001b[0m \u001b[31m2.1 MB/s\u001b[0m eta \u001b[36m0:00:00\u001b[0m\n",
            "\u001b[?25hRequirement already satisfied: requests>=2.20 in /usr/local/lib/python3.10/dist-packages (from openai) (2.31.0)\n",
            "Requirement already satisfied: tqdm in /usr/local/lib/python3.10/dist-packages (from openai) (4.66.0)\n",
            "Requirement already satisfied: aiohttp in /usr/local/lib/python3.10/dist-packages (from openai) (3.8.5)\n",
            "Requirement already satisfied: charset-normalizer<4,>=2 in /usr/local/lib/python3.10/dist-packages (from requests>=2.20->openai) (3.2.0)\n",
            "Requirement already satisfied: idna<4,>=2.5 in /usr/local/lib/python3.10/dist-packages (from requests>=2.20->openai) (3.4)\n",
            "Requirement already satisfied: urllib3<3,>=1.21.1 in /usr/local/lib/python3.10/dist-packages (from requests>=2.20->openai) (2.0.4)\n",
            "Requirement already satisfied: certifi>=2017.4.17 in /usr/local/lib/python3.10/dist-packages (from requests>=2.20->openai) (2023.7.22)\n",
            "Requirement already satisfied: attrs>=17.3.0 in /usr/local/lib/python3.10/dist-packages (from aiohttp->openai) (23.1.0)\n",
            "Requirement already satisfied: multidict<7.0,>=4.5 in /usr/local/lib/python3.10/dist-packages (from aiohttp->openai) (6.0.4)\n",
            "Requirement already satisfied: async-timeout<5.0,>=4.0.0a3 in /usr/local/lib/python3.10/dist-packages (from aiohttp->openai) (4.0.2)\n",
            "Requirement already satisfied: yarl<2.0,>=1.0 in /usr/local/lib/python3.10/dist-packages (from aiohttp->openai) (1.9.2)\n",
            "Requirement already satisfied: frozenlist>=1.1.1 in /usr/local/lib/python3.10/dist-packages (from aiohttp->openai) (1.4.0)\n",
            "Requirement already satisfied: aiosignal>=1.1.2 in /usr/local/lib/python3.10/dist-packages (from aiohttp->openai) (1.3.1)\n",
            "Installing collected packages: openai\n",
            "Successfully installed openai-0.27.8\n",
            "Collecting langchain\n",
            "  Downloading langchain-0.0.263-py3-none-any.whl (1.5 MB)\n",
            "\u001b[2K     \u001b[90m━━━━━━━━━━━━━━━━━━━━━━━━━━━━━━━━━━━━━━━━\u001b[0m \u001b[32m1.5/1.5 MB\u001b[0m \u001b[31m9.0 MB/s\u001b[0m eta \u001b[36m0:00:00\u001b[0m\n",
            "\u001b[?25hRequirement already satisfied: PyYAML>=5.3 in /usr/local/lib/python3.10/dist-packages (from langchain) (6.0.1)\n",
            "Requirement already satisfied: SQLAlchemy<3,>=1.4 in /usr/local/lib/python3.10/dist-packages (from langchain) (2.0.19)\n",
            "Requirement already satisfied: aiohttp<4.0.0,>=3.8.3 in /usr/local/lib/python3.10/dist-packages (from langchain) (3.8.5)\n",
            "Requirement already satisfied: async-timeout<5.0.0,>=4.0.0 in /usr/local/lib/python3.10/dist-packages (from langchain) (4.0.2)\n",
            "Collecting dataclasses-json<0.6.0,>=0.5.7 (from langchain)\n",
            "  Downloading dataclasses_json-0.5.14-py3-none-any.whl (26 kB)\n",
            "Collecting langsmith<0.1.0,>=0.0.11 (from langchain)\n",
            "  Downloading langsmith-0.0.22-py3-none-any.whl (32 kB)\n",
            "Requirement already satisfied: numexpr<3.0.0,>=2.8.4 in /usr/local/lib/python3.10/dist-packages (from langchain) (2.8.5)\n",
            "Requirement already satisfied: numpy<2,>=1 in /usr/local/lib/python3.10/dist-packages (from langchain) (1.23.5)\n",
            "Collecting openapi-schema-pydantic<2.0,>=1.2 (from langchain)\n",
            "  Downloading openapi_schema_pydantic-1.2.4-py3-none-any.whl (90 kB)\n",
            "\u001b[2K     \u001b[90m━━━━━━━━━━━━━━━━━━━━━━━━━━━━━━━━━━━━━━━━\u001b[0m \u001b[32m90.0/90.0 kB\u001b[0m \u001b[31m12.3 MB/s\u001b[0m eta \u001b[36m0:00:00\u001b[0m\n",
            "\u001b[?25hCollecting pydantic<2,>=1 (from langchain)\n",
            "  Downloading pydantic-1.10.12-cp310-cp310-manylinux_2_17_x86_64.manylinux2014_x86_64.whl (3.1 MB)\n",
            "\u001b[2K     \u001b[90m━━━━━━━━━━━━━━━━━━━━━━━━━━━━━━━━━━━━━━━━\u001b[0m \u001b[32m3.1/3.1 MB\u001b[0m \u001b[31m20.6 MB/s\u001b[0m eta \u001b[36m0:00:00\u001b[0m\n",
            "\u001b[?25hRequirement already satisfied: requests<3,>=2 in /usr/local/lib/python3.10/dist-packages (from langchain) (2.31.0)\n",
            "Requirement already satisfied: tenacity<9.0.0,>=8.1.0 in /usr/local/lib/python3.10/dist-packages (from langchain) (8.2.2)\n",
            "Requirement already satisfied: attrs>=17.3.0 in /usr/local/lib/python3.10/dist-packages (from aiohttp<4.0.0,>=3.8.3->langchain) (23.1.0)\n",
            "Requirement already satisfied: charset-normalizer<4.0,>=2.0 in /usr/local/lib/python3.10/dist-packages (from aiohttp<4.0.0,>=3.8.3->langchain) (3.2.0)\n",
            "Requirement already satisfied: multidict<7.0,>=4.5 in /usr/local/lib/python3.10/dist-packages (from aiohttp<4.0.0,>=3.8.3->langchain) (6.0.4)\n",
            "Requirement already satisfied: yarl<2.0,>=1.0 in /usr/local/lib/python3.10/dist-packages (from aiohttp<4.0.0,>=3.8.3->langchain) (1.9.2)\n",
            "Requirement already satisfied: frozenlist>=1.1.1 in /usr/local/lib/python3.10/dist-packages (from aiohttp<4.0.0,>=3.8.3->langchain) (1.4.0)\n",
            "Requirement already satisfied: aiosignal>=1.1.2 in /usr/local/lib/python3.10/dist-packages (from aiohttp<4.0.0,>=3.8.3->langchain) (1.3.1)\n",
            "Collecting marshmallow<4.0.0,>=3.18.0 (from dataclasses-json<0.6.0,>=0.5.7->langchain)\n",
            "  Downloading marshmallow-3.20.1-py3-none-any.whl (49 kB)\n",
            "\u001b[2K     \u001b[90m━━━━━━━━━━━━━━━━━━━━━━━━━━━━━━━━━━━━━━━━\u001b[0m \u001b[32m49.4/49.4 kB\u001b[0m \u001b[31m5.4 MB/s\u001b[0m eta \u001b[36m0:00:00\u001b[0m\n",
            "\u001b[?25hCollecting typing-inspect<1,>=0.4.0 (from dataclasses-json<0.6.0,>=0.5.7->langchain)\n",
            "  Downloading typing_inspect-0.9.0-py3-none-any.whl (8.8 kB)\n",
            "Requirement already satisfied: typing-extensions>=4.2.0 in /usr/local/lib/python3.10/dist-packages (from pydantic<2,>=1->langchain) (4.7.1)\n",
            "Requirement already satisfied: idna<4,>=2.5 in /usr/local/lib/python3.10/dist-packages (from requests<3,>=2->langchain) (3.4)\n",
            "Requirement already satisfied: urllib3<3,>=1.21.1 in /usr/local/lib/python3.10/dist-packages (from requests<3,>=2->langchain) (2.0.4)\n",
            "Requirement already satisfied: certifi>=2017.4.17 in /usr/local/lib/python3.10/dist-packages (from requests<3,>=2->langchain) (2023.7.22)\n",
            "Requirement already satisfied: greenlet!=0.4.17 in /usr/local/lib/python3.10/dist-packages (from SQLAlchemy<3,>=1.4->langchain) (2.0.2)\n",
            "Requirement already satisfied: packaging>=17.0 in /usr/local/lib/python3.10/dist-packages (from marshmallow<4.0.0,>=3.18.0->dataclasses-json<0.6.0,>=0.5.7->langchain) (23.1)\n",
            "Collecting mypy-extensions>=0.3.0 (from typing-inspect<1,>=0.4.0->dataclasses-json<0.6.0,>=0.5.7->langchain)\n",
            "  Downloading mypy_extensions-1.0.0-py3-none-any.whl (4.7 kB)\n",
            "Installing collected packages: pydantic, mypy-extensions, marshmallow, typing-inspect, openapi-schema-pydantic, langsmith, dataclasses-json, langchain\n",
            "  Attempting uninstall: pydantic\n",
            "    Found existing installation: pydantic 2.1.1\n",
            "    Uninstalling pydantic-2.1.1:\n",
            "      Successfully uninstalled pydantic-2.1.1\n",
            "Successfully installed dataclasses-json-0.5.14 langchain-0.0.263 langsmith-0.0.22 marshmallow-3.20.1 mypy-extensions-1.0.0 openapi-schema-pydantic-1.2.4 pydantic-1.10.12 typing-inspect-0.9.0\n"
          ]
        }
      ]
    },
    {
      "cell_type": "code",
      "source": [
        "import os\n",
        "import openai"
      ],
      "metadata": {
        "id": "L2DWJYBJ8EHT"
      },
      "id": "L2DWJYBJ8EHT",
      "execution_count": 3,
      "outputs": []
    },
    {
      "cell_type": "code",
      "source": [],
      "metadata": {
        "id": "ActpxLn38EW9"
      },
      "id": "ActpxLn38EW9",
      "execution_count": 4,
      "outputs": []
    },
    {
      "cell_type": "markdown",
      "id": "6f36f621-d2cb-43e7-89ad-41691ab266c1",
      "metadata": {
        "id": "6f36f621-d2cb-43e7-89ad-41691ab266c1"
      },
      "source": [
        "## History Quiz\n",
        "\n",
        "Our main goal is to use LangChain and Python to create a very simple class with a few methods for:\n",
        "* Writing a historical question that has a date as the correct answer\n",
        "* Getting the correct answer from LLM\n",
        "* Getting a Human user's best guess at at correct answer\n",
        "* Checking/reporting the difference between the correct answer and the user answer"
      ]
    },
    {
      "cell_type": "code",
      "execution_count": 5,
      "id": "3cde30a6-5b0b-475f-9460-809e174cac97",
      "metadata": {
        "id": "3cde30a6-5b0b-475f-9460-809e174cac97"
      },
      "outputs": [],
      "source": [
        "from langchain.prompts import (\n",
        "    ChatPromptTemplate,\n",
        "    PromptTemplate,\n",
        "    SystemMessagePromptTemplate,\n",
        "    AIMessagePromptTemplate,\n",
        "    HumanMessagePromptTemplate,\n",
        ")\n",
        "from datetime import datetime\n",
        "from langchain.llms import OpenAI\n",
        "from langchain.output_parsers import DatetimeOutputParser\n",
        "from langchain.chat_models import ChatOpenAI\n",
        "\n",
        "#f = open('C:\\\\Users\\\\Marcial\\\\Desktop\\\\desktop_openai.txt')\n",
        "#api_key = f.read()\n",
        "api_key = os.environ['OPENAI_API_KEY']"
      ]
    },
    {
      "cell_type": "code",
      "execution_count": 6,
      "id": "c1e1fce6-7f28-4d74-a92b-0424c6abcd30",
      "metadata": {
        "id": "c1e1fce6-7f28-4d74-a92b-0424c6abcd30"
      },
      "outputs": [],
      "source": [
        "class HistoryQuiz():\n",
        "\n",
        "    def create_history_question(self,topic):\n",
        "        '''\n",
        "        This method should output a historical question about the topic that has a date as the correct answer.\n",
        "        For example:\n",
        "\n",
        "            \"On what date did World War 2 end?\"\n",
        "\n",
        "        '''\n",
        "        # PART ONE: SYSTEM\n",
        "        system_template=\"You write single quiz questions about {topic}. You only return the quiz question.\"\n",
        "        system_message_prompt = SystemMessagePromptTemplate.from_template(system_template)\n",
        "        # PART TWO: HUMAN REQUEST\n",
        "        human_template=\"{question_request}\"\n",
        "        human_message_prompt = HumanMessagePromptTemplate.from_template(human_template)\n",
        "        # PART THREE: COMPILE TO CHAT\n",
        "        chat_prompt = ChatPromptTemplate.from_messages([system_message_prompt, human_message_prompt])\n",
        "        # PART FOUR: INSERT VARIABLES\n",
        "        request = chat_prompt.format_prompt(topic=topic,question_request=\"Give me a quiz question where the correct answer is a specific date.\").to_messages()\n",
        "        # PART FIVE: CHAT REQUEST\n",
        "        chat = ChatOpenAI(openai_api_key=api_key)\n",
        "        result = chat(request)\n",
        "\n",
        "\n",
        "        return result.content\n",
        "\n",
        "    def get_AI_answer(self,question):\n",
        "        '''\n",
        "        This method should get the answer to the historical question from the method above.\n",
        "        Note: This answer must be in datetime format! Use DateTimeOutputParser to confirm!\n",
        "\n",
        "        September 2, 1945 --> datetime.datetime(1945, 9, 2, 0, 0)\n",
        "        '''\n",
        "        # Datetime Parser\n",
        "        output_parser = DatetimeOutputParser()\n",
        "\n",
        "        # SYSTEM Template\n",
        "        system_template = \"You answer quiz questions with just a date.\"\n",
        "        system_message_prompt = SystemMessagePromptTemplate.from_template(system_template)\n",
        "\n",
        "\n",
        "        # HUMAN Template\n",
        "        human_template = \"\"\"Answer the user's question:\n",
        "\n",
        "        {question}\n",
        "\n",
        "        {format_instructions}\"\"\"\n",
        "        human_message_prompt = HumanMessagePromptTemplate.from_template(human_template)\n",
        "\n",
        "        # Compile ChatTemplate\n",
        "        chat_prompt = ChatPromptTemplate.from_messages([system_message_prompt,human_message_prompt])\n",
        "\n",
        "        # Insert question and format instructions\n",
        "\n",
        "        request = chat_prompt.format_prompt(question=question,\n",
        "                                            format_instructions=output_parser.get_format_instructions()).to_messages()\n",
        "\n",
        "\n",
        "\n",
        "        # Chat Bot\n",
        "        chat = ChatOpenAI(openai_api_key=api_key)\n",
        "        result = chat(request)\n",
        "        # Format Request to datetime\n",
        "        correct_datetime = output_parser.parse(result.content)\n",
        "        return correct_datetime\n",
        "\n",
        "    def get_user_answer(self,question):\n",
        "        '''\n",
        "        This method should grab a user answer and convert it to datetime. It should collect a Year, Month, and Day.\n",
        "        You can just use input() for this.\n",
        "        '''\n",
        "        print(question)\n",
        "\n",
        "\n",
        "        # Get the year, month, and day from the user\n",
        "        year = int(input(\"Enter the year: \"))\n",
        "        month = int(input(\"Enter the month (1-12): \"))\n",
        "        day = int(input(\"Enter the day (1-31): \"))\n",
        "\n",
        "        # Create a datetime object\n",
        "        user_datetime = datetime(year, month, day)\n",
        "\n",
        "\n",
        "        return user_datetime\n",
        "\n",
        "\n",
        "    def check_user_answer(self,user_answer,ai_answer):\n",
        "        '''\n",
        "        Should check the user answer against the AI answer and return the difference between them\n",
        "        '''\n",
        "\n",
        "        # Calculate the difference between the dates\n",
        "        difference = user_answer - ai_answer\n",
        "\n",
        "        # Format the difference into a string\n",
        "        formatted_difference = str(difference)\n",
        "\n",
        "        # Return the string reporting the difference\n",
        "        print(\"The difference between the dates is:\", formatted_difference)\n",
        "\n",
        ""
      ]
    },
    {
      "cell_type": "code",
      "execution_count": 7,
      "id": "937e4900-1148-4836-835b-dd2936b8e30e",
      "metadata": {
        "id": "937e4900-1148-4836-835b-dd2936b8e30e"
      },
      "outputs": [],
      "source": [
        "quiz_bot = HistoryQuiz()"
      ]
    },
    {
      "cell_type": "code",
      "execution_count": 8,
      "id": "5dd56ef3-819d-4996-b9a5-1cfad88e5eed",
      "metadata": {
        "id": "5dd56ef3-819d-4996-b9a5-1cfad88e5eed"
      },
      "outputs": [],
      "source": [
        "question = quiz_bot.create_history_question(topic='World War 2')"
      ]
    },
    {
      "cell_type": "code",
      "execution_count": 9,
      "id": "9eecb542-6018-4526-9f89-24f031468829",
      "metadata": {
        "colab": {
          "base_uri": "https://localhost:8080/",
          "height": 35
        },
        "id": "9eecb542-6018-4526-9f89-24f031468829",
        "outputId": "c373a8e3-04f5-43af-ea33-3c6bd4413cfc"
      },
      "outputs": [
        {
          "output_type": "execute_result",
          "data": {
            "text/plain": [
              "'On which date did the United States enter World War II after the attack on Pearl Harbor?'"
            ],
            "application/vnd.google.colaboratory.intrinsic+json": {
              "type": "string"
            }
          },
          "metadata": {},
          "execution_count": 9
        }
      ],
      "source": [
        "question"
      ]
    },
    {
      "cell_type": "code",
      "execution_count": 10,
      "id": "c86320ce-4497-4eb0-80f5-871736cb51e7",
      "metadata": {
        "id": "c86320ce-4497-4eb0-80f5-871736cb51e7"
      },
      "outputs": [],
      "source": [
        "ai_answer = quiz_bot.get_AI_answer(question)"
      ]
    },
    {
      "cell_type": "code",
      "execution_count": 11,
      "id": "4be20b47-8287-4656-8253-1ec1c52fad43",
      "metadata": {
        "colab": {
          "base_uri": "https://localhost:8080/"
        },
        "id": "4be20b47-8287-4656-8253-1ec1c52fad43",
        "outputId": "8b7fb39c-a3e0-4490-d235-def282d29871"
      },
      "outputs": [
        {
          "output_type": "execute_result",
          "data": {
            "text/plain": [
              "datetime.datetime(1941, 12, 7, 0, 0)"
            ]
          },
          "metadata": {},
          "execution_count": 11
        }
      ],
      "source": [
        "# Day After Pearl Harbor\n",
        "ai_answer"
      ]
    },
    {
      "cell_type": "code",
      "execution_count": 13,
      "id": "d8537e7e-b955-4ffd-84ba-a26d072b4a05",
      "metadata": {
        "colab": {
          "base_uri": "https://localhost:8080/"
        },
        "id": "d8537e7e-b955-4ffd-84ba-a26d072b4a05",
        "outputId": "bc6df722-e5d2-4b79-d2f3-ddbb3767db35"
      },
      "outputs": [
        {
          "name": "stdout",
          "output_type": "stream",
          "text": [
            "On which date did the United States enter World War II after the attack on Pearl Harbor?\n",
            "Enter the year: 1948\n",
            "Enter the month (1-12): 12\n",
            "Enter the day (1-31): 03\n"
          ]
        }
      ],
      "source": [
        "user_answer = quiz_bot.get_user_answer(question)"
      ]
    },
    {
      "cell_type": "code",
      "execution_count": 14,
      "id": "e8eb40a9-789e-4666-81a6-a6a783dedaf6",
      "metadata": {
        "colab": {
          "base_uri": "https://localhost:8080/"
        },
        "id": "e8eb40a9-789e-4666-81a6-a6a783dedaf6",
        "outputId": "328ffc00-3478-4427-daf6-4887185714e7"
      },
      "outputs": [
        {
          "output_type": "execute_result",
          "data": {
            "text/plain": [
              "datetime.datetime(1948, 12, 3, 0, 0)"
            ]
          },
          "metadata": {},
          "execution_count": 14
        }
      ],
      "source": [
        "user_answer"
      ]
    },
    {
      "cell_type": "code",
      "execution_count": 15,
      "id": "e22a7cf0-f199-4ace-a909-c73492e86e47",
      "metadata": {
        "colab": {
          "base_uri": "https://localhost:8080/"
        },
        "id": "e22a7cf0-f199-4ace-a909-c73492e86e47",
        "outputId": "7f18ccab-3fd7-40f6-a8ce-d3e6f9539fb0"
      },
      "outputs": [
        {
          "output_type": "stream",
          "name": "stdout",
          "text": [
            "The difference between the dates is: 2553 days, 0:00:00\n"
          ]
        }
      ],
      "source": [
        "quiz_bot.check_user_answer(user_answer,ai_answer)"
      ]
    }
  ],
  "metadata": {
    "kernelspec": {
      "display_name": "Python 3 (ipykernel)",
      "language": "python",
      "name": "python3"
    },
    "language_info": {
      "codemirror_mode": {
        "name": "ipython",
        "version": 3
      },
      "file_extension": ".py",
      "mimetype": "text/x-python",
      "name": "python",
      "nbconvert_exporter": "python",
      "pygments_lexer": "ipython3",
      "version": "3.9.12"
    },
    "colab": {
      "provenance": [],
      "include_colab_link": true
    }
  },
  "nbformat": 4,
  "nbformat_minor": 5
}